{
 "cells": [
  {
   "cell_type": "markdown",
   "metadata": {
    "heading_collapsed": true,
    "slideshow": {
     "slide_type": "slide"
    }
   },
   "source": [
    "# La structure des données (datas)"
   ]
  },
  {
   "cell_type": "markdown",
   "metadata": {
    "hidden": true,
    "slideshow": {
     "slide_type": "fragment"
    }
   },
   "source": [
    "On trouve énormément de **données** sur internet. "
   ]
  },
  {
   "cell_type": "markdown",
   "metadata": {
    "hidden": true,
    "slideshow": {
     "slide_type": "fragment"
    }
   },
   "source": [
    "Une partie de ces données sont **publiques**."
   ]
  },
  {
   "cell_type": "markdown",
   "metadata": {
    "hidden": true,
    "slideshow": {
     "slide_type": "fragment"
    }
   },
   "source": [
    "*Exemple*: le site `data.gouv.fr`; ses données sont **librement réutilisables**."
   ]
  },
  {
   "cell_type": "markdown",
   "metadata": {
    "hidden": true,
    "slideshow": {
     "slide_type": "fragment"
    }
   },
   "source": [
    "On appelle cela l'**open data**."
   ]
  },
  {
   "cell_type": "markdown",
   "metadata": {
    "hidden": true,
    "slideshow": {
     "slide_type": "slide"
    }
   },
   "source": [
    "## Données au Format CSV (*Comma-separated values*)"
   ]
  },
  {
   "cell_type": "markdown",
   "metadata": {
    "hidden": true,
    "slideshow": {
     "slide_type": "fragment"
    }
   },
   "source": [
    "Le format **CSV** est très courant sur internet."
   ]
  },
  {
   "cell_type": "markdown",
   "metadata": {
    "hidden": true,
    "slideshow": {
     "slide_type": "subslide"
    }
   },
   "source": [
    "Wikipédia sur le format CSV:\n",
    "\n",
    "> ... format informatique ouvert représentant des données **tabulaires** sous forme de\n",
    "valeurs séparées par des *virgules*..."
   ]
  },
  {
   "cell_type": "markdown",
   "metadata": {
    "hidden": true,
    "slideshow": {
     "slide_type": "fragment"
    }
   },
   "source": [
    "> ...Un fichier CSV est un fichier **texte** ..., par opposition aux formats dits «\n",
    "binaires »..."
   ]
  },
  {
   "cell_type": "markdown",
   "metadata": {
    "hidden": true,
    "slideshow": {
     "slide_type": "subslide"
    }
   },
   "source": [
    "*Exemple* de contenu d'un fichier CSV :\n",
    "\n",
    "```\n",
    "nom,prenom,date_naissance\n",
    "Durand,Jean-Pierre,23/05/1985\n",
    "Dupont,Christophe,15/12/1967\n",
    "Terta,Henry,12/06/1978       \n",
    "```"
   ]
  },
  {
   "cell_type": "markdown",
   "metadata": {
    "hidden": true,
    "slideshow": {
     "slide_type": "fragment"
    }
   },
   "source": [
    "**Première ligne**: `nom`, `prenom` et `date_naissance` sont appelés des **descripteurs**."
   ]
  },
  {
   "cell_type": "markdown",
   "metadata": {
    "hidden": true,
    "slideshow": {
     "slide_type": "fragment"
    }
   },
   "source": [
    "*Lignes suivantes*: Les **valeurs** associées à ces descripteurs."
   ]
  },
  {
   "cell_type": "markdown",
   "metadata": {
    "hidden": true,
    "slideshow": {
     "slide_type": "fragment"
    }
   },
   "source": [
    "*Chaque ligne* - sauf la première - représente un \"**objet**\"."
   ]
  },
  {
   "cell_type": "markdown",
   "metadata": {
    "hidden": true,
    "slideshow": {
     "slide_type": "fragment"
    }
   },
   "source": [
    "Le «*tout*» est appelé **collection**."
   ]
  },
  {
   "cell_type": "markdown",
   "metadata": {
    "hidden": true,
    "slideshow": {
     "slide_type": "subslide"
    }
   },
   "source": [
    "Dans un tableur, on obtient:\n",
    "\n",
    "<div class=\"centrer\">\n",
    "\n",
    "![](https://pixees.fr/informatiquelycee/n_site/img/snt_donnee_1.png)\n",
    "\n",
    "</div>"
   ]
  },
  {
   "cell_type": "markdown",
   "metadata": {
    "hidden": true,
    "slideshow": {
     "slide_type": "fragment"
    }
   },
   "source": [
    "d'où le terme \"**données tabulaires**\" (en tableau)"
   ]
  },
  {
   "cell_type": "markdown",
   "metadata": {
    "hidden": true,
    "slideshow": {
     "slide_type": "slide"
    }
   },
   "source": [
    "## Données au Format JSON   (*JavaScript Object Notation*)"
   ]
  },
  {
   "cell_type": "markdown",
   "metadata": {
    "hidden": true,
    "slideshow": {
     "slide_type": "fragment"
    }
   },
   "source": [
    "Autre format de données «texte» très courant sur le \"web\". "
   ]
  },
  {
   "cell_type": "markdown",
   "metadata": {
    "hidden": true,
    "slideshow": {
     "slide_type": "fragment"
    }
   },
   "source": [
    "Le JSON fonctionne avec un système de paire **clé:valeur**."
   ]
  },
  {
   "cell_type": "markdown",
   "metadata": {
    "hidden": true,
    "slideshow": {
     "slide_type": "fragment"
    }
   },
   "source": [
    "Un \"objet\" est encadré par des accolades `{...}`\n",
    "\n",
    "```json\n",
    "{cle_1 : val_1, cle_2 : val_2, cle_3 : val_3}\n",
    "        \n",
    "```"
   ]
  },
  {
   "cell_type": "markdown",
   "metadata": {
    "hidden": true,
    "slideshow": {
     "slide_type": "subslide"
    }
   },
   "source": [
    "souvent, pour une question de lisibilité, on écrira :\n",
    "\n",
    "```json\n",
    "{\n",
    "    cle_1 : val_1,\n",
    "    cle_2 : val_2,\n",
    "    cle_3 : val_3\n",
    "}\n",
    "        \n",
    "```"
   ]
  },
  {
   "cell_type": "markdown",
   "metadata": {
    "hidden": true,
    "slideshow": {
     "slide_type": "subslide"
    }
   },
   "source": [
    "Un fichier au format JSON peut regrouper un grand nombre d'objets :\n",
    "\n",
    "```json\n",
    "[{\n",
    "\"nom\" : \"Durand\",\n",
    "\"prenom\" : \"Jean-Pierre\",\n",
    "\"date_naissance\" : \"23/05/1985\"\n",
    "},\n",
    "{\n",
    "\"nom\" : \"Dupont\",\n",
    "\"prenom\" : \"Christophe\",\n",
    "\"date_naissance\" : \"15/12/1967\"\n",
    "},\n",
    "{\n",
    "\"nom\" : \"Terta\",\n",
    "\"prenom\" : \"Henry\",\n",
    "\"date_naissance\" : \"12/06/1978\"\n",
    "}]\n",
    "        \n",
    "```"
   ]
  },
  {
   "cell_type": "markdown",
   "metadata": {
    "hidden": true,
    "slideshow": {
     "slide_type": "fragment"
    }
   },
   "source": [
    "Observez que ce qu'on appelle «**clé**» a été appelé plus tôt «**descripteur**» "
   ]
  },
  {
   "cell_type": "markdown",
   "metadata": {
    "hidden": true,
    "slideshow": {
     "slide_type": "fragment"
    }
   },
   "source": [
    "Les crochets `[...]` indiquent qu'on a plusieurs «objets»: une **collection**"
   ]
  },
  {
   "cell_type": "markdown",
   "metadata": {
    "hidden": true,
    "slideshow": {
     "slide_type": "subslide"
    }
   },
   "source": [
    "La \"valeur\" d'une paire \"clé/valeur\" peut être une liste :\n",
    "\n",
    "```json\n",
    "{\n",
    "\"nom\" : \"Durand\",\n",
    "\"prenom\" : \"Jean-Pierre\",\n",
    "\"date_naissance\" : \"23/05/1985\"\n",
    "\"sport\" : [\"tennis\", \"football\", \"pétanque\"]\n",
    "}\n",
    "        \n",
    "```"
   ]
  },
  {
   "cell_type": "markdown",
   "metadata": {
    "hidden": true,
    "slideshow": {
     "slide_type": "subslide"
    }
   },
   "source": [
    "ou même un autre objet :\n",
    "\n",
    "```json\n",
    "{\n",
    "\"nom\" : \"Durand\",\n",
    "\"prenom\" : \"Jean-Pierre\",\n",
    "\"date_naissance\" : \"23/05/1985\",\n",
    "\"adresse\" : {\n",
    "    \"num\":6,\n",
    "    \"rue\":\"impasse du rossignol\",\n",
    "    \"ville\":\"Nogent-le-Rotrou\",\n",
    "    \"cp\":\"28400\"\n",
    "    }\n",
    "}         \n",
    "```"
   ]
  },
  {
   "cell_type": "markdown",
   "metadata": {
    "hidden": true,
    "slideshow": {
     "slide_type": "fragment"
    }
   },
   "source": [
    "Il est possible d'obtenir des structures de données très complètes avec le format JSON."
   ]
  },
  {
   "cell_type": "markdown",
   "metadata": {
    "hidden": true,
    "slideshow": {
     "slide_type": "subslide"
    }
   },
   "source": [
    "De nombreux sites web proposent des services basés sur des **API** (*Application Programming Interface*). "
   ]
  },
  {
   "cell_type": "markdown",
   "metadata": {
    "hidden": true,
    "slideshow": {
     "slide_type": "fragment"
    }
   },
   "source": [
    "Ces sites sont capables de fournir des données aux formats JSON sur \"simple demande\"."
   ]
  },
  {
   "cell_type": "markdown",
   "metadata": {
    "hidden": true,
    "slideshow": {
     "slide_type": "fragment"
    }
   },
   "source": [
    "Souvent, ces \"demandes\" sont effectuées par l'intermédiaire d'une **url**."
   ]
  },
  {
   "cell_type": "markdown",
   "metadata": {
    "hidden": true,
    "slideshow": {
     "slide_type": "subslide"
    }
   },
   "source": [
    "*Exemple*: Avec une simple url, le site \"*open weather*\" renvoie des informations **météo** sous forme de données JSON."
   ]
  },
  {
   "cell_type": "markdown",
   "metadata": {
    "hidden": true,
    "slideshow": {
     "slide_type": "fragment"
    }
   },
   "source": [
    "**base de l'url**: le service\n",
    "\n",
    "``` \n",
    "http://api.openweathermap.org/data/2.5/weather...\n",
    "        \n",
    "```"
   ]
  },
  {
   "cell_type": "markdown",
   "metadata": {
    "hidden": true,
    "slideshow": {
     "slide_type": "fragment"
    }
   },
   "source": [
    "... puis les **paramètres**. Que veut-on savoir au juste ?\n",
    "\n",
    "\n",
    "``` \n",
    "...?q=tours,fr&lang=fr&units=metric&APPID=XXXXXXXXXXXXX\n",
    "        \n",
    "```"
   ]
  },
  {
   "cell_type": "markdown",
   "metadata": {
    "hidden": true,
    "slideshow": {
     "slide_type": "fragment"
    }
   },
   "source": [
    "`APPID` correspond à l'«API key»"
   ]
  },
  {
   "cell_type": "markdown",
   "metadata": {
    "slideshow": {
     "slide_type": "subslide"
    }
   },
   "source": [
    "[url complète](http://api.openweathermap.org/data/2.5/weather?q=tours,fr&lang=fr&units=metric&APPID=19db842339eb2de5ac8d890e39bf727b)\n",
    "\n",
    "```\n",
    "http://api.openweathermap.org/data/2.5/weather?q=tours,fr&lang=fr&units=metric&APPID=19db842339eb2de5ac8d890e39bf727b\n",
    "```"
   ]
  },
  {
   "cell_type": "markdown",
   "metadata": {
    "hidden": true,
    "slideshow": {
     "slide_type": "slide"
    }
   },
   "source": [
    "## Format GEOJSON"
   ]
  },
  {
   "cell_type": "markdown",
   "metadata": {
    "hidden": true,
    "slideshow": {
     "slide_type": "subslide"
    }
   },
   "source": [
    "geoJSON est un format qui permet d'encoder des données à \"**caractère géographique**\". \n",
    "\n",
    "Wikipédia:"
   ]
  },
  {
   "cell_type": "markdown",
   "metadata": {
    "hidden": true,
    "slideshow": {
     "slide_type": "fragment"
    }
   },
   "source": [
    "> ... format ouvert d'encodage d'ensemble de données géospatiales ..."
   ]
  },
  {
   "cell_type": "markdown",
   "metadata": {
    "hidden": true,
    "slideshow": {
     "slide_type": "fragment"
    }
   },
   "source": [
    "> ... Il permet de décrire des données de type point, ligne, polygone ... "
   ]
  },
  {
   "cell_type": "markdown",
   "metadata": {
    "hidden": true,
    "slideshow": {
     "slide_type": "subslide"
    }
   },
   "source": [
    "*Exemple* avec le site *earthquake.usgs.gov* qui recense les [tremblements de terre du monde entier](https://earthquake.usgs.gov/fdsnws/event/1/query?format=geojson&starttime=2019-07-31&endtime=2019-08-01)\n",
    "\n",
    "``` \n",
    "https://earthquake.usgs.gov/fdsnws/event/1/query?format=geojson&starttime=2019-07-31&endtime=2019-08-01\n",
    "        \n",
    "```"
   ]
  }
 ],
 "metadata": {
  "celltoolbar": "Diaporama",
  "kernelspec": {
   "display_name": "Python 3",
   "language": "python",
   "name": "python3"
  },
  "language_info": {
   "codemirror_mode": {
    "name": "ipython",
    "version": 3
   },
   "file_extension": ".py",
   "mimetype": "text/x-python",
   "name": "python",
   "nbconvert_exporter": "python",
   "pygments_lexer": "ipython3",
   "version": "3.6.8"
  },
  "toc": {
   "base_numbering": 1,
   "nav_menu": {},
   "number_sections": true,
   "sideBar": true,
   "skip_h1_title": false,
   "title_cell": "Table of Contents",
   "title_sidebar": "Contents",
   "toc_cell": false,
   "toc_position": {},
   "toc_section_display": true,
   "toc_window_display": false
  }
 },
 "nbformat": 4,
 "nbformat_minor": 4
}
