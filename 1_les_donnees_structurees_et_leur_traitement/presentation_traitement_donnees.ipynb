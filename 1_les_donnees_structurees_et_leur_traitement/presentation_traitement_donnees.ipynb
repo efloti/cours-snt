{
 "cells": [
  {
   "cell_type": "markdown",
   "metadata": {
    "slideshow": {
     "slide_type": "slide"
    }
   },
   "source": [
    "# Traitement des données avec le langage Python\n",
    "\n",
    "**Objectif**: Afficher sur une carte interactive les gares de voyageur d'Indre et Loire"
   ]
  },
  {
   "cell_type": "markdown",
   "metadata": {
    "slideshow": {
     "slide_type": "slide"
    }
   },
   "source": [
    "## Récupération et visualisation basique des données\n",
    "\n",
    "Nous utiliserons une librairie spécialisée dans le traitement des données connue sous le nom de `pandas`"
   ]
  },
  {
   "cell_type": "code",
   "execution_count": 1,
   "metadata": {
    "slideshow": {
     "slide_type": "fragment"
    }
   },
   "outputs": [],
   "source": [
    "import pandas"
   ]
  },
  {
   "cell_type": "markdown",
   "metadata": {
    "slideshow": {
     "slide_type": "subslide"
    }
   },
   "source": [
    "Sur l'open data de la SNCF, on trouve [la liste des gares](https://data.sncf.com/explore/dataset/liste-des-gares/export) dans différents formats...\n",
    "\n",
    "Pour cet exemple, j'ai téléchargé le fichier *fichier_gares.csv*. Lisons le avec Python et pandas:"
   ]
  },
  {
   "cell_type": "code",
   "execution_count": 2,
   "metadata": {
    "slideshow": {
     "slide_type": "fragment"
    }
   },
   "outputs": [
    {
     "data": {
      "text/html": [
       "<div>\n",
       "<style scoped>\n",
       "    .dataframe tbody tr th:only-of-type {\n",
       "        vertical-align: middle;\n",
       "    }\n",
       "\n",
       "    .dataframe tbody tr th {\n",
       "        vertical-align: top;\n",
       "    }\n",
       "\n",
       "    .dataframe thead th {\n",
       "        text-align: right;\n",
       "    }\n",
       "</style>\n",
       "<table border=\"1\" class=\"dataframe\">\n",
       "  <thead>\n",
       "    <tr style=\"text-align: right;\">\n",
       "      <th></th>\n",
       "      <th>code_uic</th>\n",
       "      <th>libelle</th>\n",
       "      <th>fret</th>\n",
       "      <th>voyageurs</th>\n",
       "      <th>code_ligne</th>\n",
       "      <th>rg_troncon</th>\n",
       "      <th>pk</th>\n",
       "      <th>commune</th>\n",
       "      <th>departement</th>\n",
       "      <th>idreseau</th>\n",
       "      <th>idgaia</th>\n",
       "      <th>x_l93</th>\n",
       "      <th>y_l93</th>\n",
       "      <th>x_wgs84</th>\n",
       "      <th>y_wgs84</th>\n",
       "      <th>c_geo</th>\n",
       "    </tr>\n",
       "  </thead>\n",
       "  <tbody>\n",
       "    <tr>\n",
       "      <th>0</th>\n",
       "      <td>87734194</td>\n",
       "      <td>Parent-Coudes-Champeix</td>\n",
       "      <td>N</td>\n",
       "      <td>O</td>\n",
       "      <td>790000</td>\n",
       "      <td>1</td>\n",
       "      <td>444+105</td>\n",
       "      <td>PARENT</td>\n",
       "      <td>PUY-DE-DOME</td>\n",
       "      <td>5919</td>\n",
       "      <td>d9979676-6667-11e3-89ff-01f464e0362d</td>\n",
       "      <td>716888.9805</td>\n",
       "      <td>6.501652e+06</td>\n",
       "      <td>3.216705</td>\n",
       "      <td>45.614188</td>\n",
       "      <td>45.6141878241,3.21670473557</td>\n",
       "    </tr>\n",
       "    <tr>\n",
       "      <th>1</th>\n",
       "      <td>87781161</td>\n",
       "      <td>Coursan</td>\n",
       "      <td>N</td>\n",
       "      <td>O</td>\n",
       "      <td>640000</td>\n",
       "      <td>1</td>\n",
       "      <td>412+069</td>\n",
       "      <td>COURSAN</td>\n",
       "      <td>AUDE</td>\n",
       "      <td>3850</td>\n",
       "      <td>d98fa138-6667-11e3-89ff-01f464e0362d</td>\n",
       "      <td>704179.9976</td>\n",
       "      <td>6.237223e+06</td>\n",
       "      <td>3.051425</td>\n",
       "      <td>43.234195</td>\n",
       "      <td>43.2341945388,3.05142456751</td>\n",
       "    </tr>\n",
       "    <tr>\n",
       "      <th>2</th>\n",
       "      <td>87343103</td>\n",
       "      <td>St-Amand-les-Eaux</td>\n",
       "      <td>O</td>\n",
       "      <td>O</td>\n",
       "      <td>257000</td>\n",
       "      <td>1</td>\n",
       "      <td>034+247</td>\n",
       "      <td>SAINT-AMAND-LES-EAUX</td>\n",
       "      <td>NORD</td>\n",
       "      <td>6358</td>\n",
       "      <td>29adbd32-dfbc-11e3-a2ff-01a464e0362d</td>\n",
       "      <td>729743.6327</td>\n",
       "      <td>7.038542e+06</td>\n",
       "      <td>3.418120</td>\n",
       "      <td>50.443655</td>\n",
       "      <td>50.4436546277,3.41811984865</td>\n",
       "    </tr>\n",
       "    <tr>\n",
       "      <th>3</th>\n",
       "      <td>87615468</td>\n",
       "      <td>Castres</td>\n",
       "      <td>O</td>\n",
       "      <td>O</td>\n",
       "      <td>737000</td>\n",
       "      <td>1</td>\n",
       "      <td>366+152</td>\n",
       "      <td>CASTRES</td>\n",
       "      <td>TARN</td>\n",
       "      <td>3509</td>\n",
       "      <td>d9a2271e-6667-11e3-89ff-01f464e0362d</td>\n",
       "      <td>637726.5810</td>\n",
       "      <td>6.277962e+06</td>\n",
       "      <td>2.229010</td>\n",
       "      <td>43.597974</td>\n",
       "      <td>43.5979740495,2.2290097046</td>\n",
       "    </tr>\n",
       "    <tr>\n",
       "      <th>4</th>\n",
       "      <td>87141069</td>\n",
       "      <td>Liverdun</td>\n",
       "      <td>N</td>\n",
       "      <td>O</td>\n",
       "      <td>70000</td>\n",
       "      <td>1</td>\n",
       "      <td>337+393</td>\n",
       "      <td>LIVERDUN</td>\n",
       "      <td>MEURTHE-ET-MOSELLE</td>\n",
       "      <td>5193</td>\n",
       "      <td>d9a5ea06-6667-11e3-89ff-01f464e0362d</td>\n",
       "      <td>925061.5124</td>\n",
       "      <td>6.854272e+06</td>\n",
       "      <td>6.061794</td>\n",
       "      <td>48.749287</td>\n",
       "      <td>48.7492871272,6.06179351875</td>\n",
       "    </tr>\n",
       "  </tbody>\n",
       "</table>\n",
       "</div>"
      ],
      "text/plain": [
       "   code_uic                 libelle fret voyageurs  code_ligne  rg_troncon  \\\n",
       "0  87734194  Parent-Coudes-Champeix    N         O      790000           1   \n",
       "1  87781161                 Coursan    N         O      640000           1   \n",
       "2  87343103       St-Amand-les-Eaux    O         O      257000           1   \n",
       "3  87615468                 Castres    O         O      737000           1   \n",
       "4  87141069                Liverdun    N         O       70000           1   \n",
       "\n",
       "        pk               commune         departement  idreseau  \\\n",
       "0  444+105                PARENT         PUY-DE-DOME      5919   \n",
       "1  412+069               COURSAN                AUDE      3850   \n",
       "2  034+247  SAINT-AMAND-LES-EAUX                NORD      6358   \n",
       "3  366+152               CASTRES                TARN      3509   \n",
       "4  337+393              LIVERDUN  MEURTHE-ET-MOSELLE      5193   \n",
       "\n",
       "                                 idgaia        x_l93         y_l93   x_wgs84  \\\n",
       "0  d9979676-6667-11e3-89ff-01f464e0362d  716888.9805  6.501652e+06  3.216705   \n",
       "1  d98fa138-6667-11e3-89ff-01f464e0362d  704179.9976  6.237223e+06  3.051425   \n",
       "2  29adbd32-dfbc-11e3-a2ff-01a464e0362d  729743.6327  7.038542e+06  3.418120   \n",
       "3  d9a2271e-6667-11e3-89ff-01f464e0362d  637726.5810  6.277962e+06  2.229010   \n",
       "4  d9a5ea06-6667-11e3-89ff-01f464e0362d  925061.5124  6.854272e+06  6.061794   \n",
       "\n",
       "     y_wgs84                        c_geo  \n",
       "0  45.614188  45.6141878241,3.21670473557  \n",
       "1  43.234195  43.2341945388,3.05142456751  \n",
       "2  50.443655  50.4436546277,3.41811984865  \n",
       "3  43.597974   43.5979740495,2.2290097046  \n",
       "4  48.749287  48.7492871272,6.06179351875  "
      ]
     },
     "execution_count": 2,
     "metadata": {},
     "output_type": "execute_result"
    }
   ],
   "source": [
    "gares = pandas.read_csv('fichier_gares.csv', sep=\";\")\n",
    "gares.head()"
   ]
  },
  {
   "cell_type": "markdown",
   "metadata": {
    "slideshow": {
     "slide_type": "subslide"
    }
   },
   "source": [
    "### À faire toi-même\n",
    "\n",
    "Dans la cellule qui suit:\n",
    "- Enlève le `.head()` dans le code et exécute la cellule. Vois-tu à quoi il sert ?\n",
    "- Que se passe-t-il si on change le séparateur par une virgule ?"
   ]
  },
  {
   "cell_type": "code",
   "execution_count": null,
   "metadata": {},
   "outputs": [],
   "source": [
    "# pour tester\n",
    "test_gares = pandas.read_csv('fichier_gares.csv', sep=\";\")\n",
    "test_gares.head()"
   ]
  },
  {
   "cell_type": "markdown",
   "metadata": {
    "slideshow": {
     "slide_type": "slide"
    }
   },
   "source": [
    "## Sélection des gares pertinentes\n",
    "\n",
    "Notre objectif est d'afficher les gares du départements sur une map (carte). Réaffichons les **descripteurs** de ces gares:"
   ]
  },
  {
   "cell_type": "code",
   "execution_count": 3,
   "metadata": {
    "slideshow": {
     "slide_type": "fragment"
    }
   },
   "outputs": [
    {
     "data": {
      "text/plain": [
       "Index(['code_uic', 'libelle', 'fret', 'voyageurs', 'code_ligne', 'rg_troncon',\n",
       "       'pk', 'commune', 'departement', 'idreseau', 'idgaia', 'x_l93', 'y_l93',\n",
       "       'x_wgs84', 'y_wgs84', 'c_geo'],\n",
       "      dtype='object')"
      ]
     },
     "execution_count": 3,
     "metadata": {},
     "output_type": "execute_result"
    }
   ],
   "source": [
    "gares.columns"
   ]
  },
  {
   "cell_type": "markdown",
   "metadata": {
    "slideshow": {
     "slide_type": "subslide"
    }
   },
   "source": [
    "### À faire toi-même\n",
    "\n",
    "Dans le code qui suit, il manque le descripteur pertinent dans la zone à compléter `___`: complète-le. \n",
    "\n",
    "**Note**: Si tu réussis, seules les gares pertinentes s'affichent (les 5 premières...)"
   ]
  },
  {
   "cell_type": "code",
   "execution_count": 4,
   "metadata": {},
   "outputs": [
    {
     "data": {
      "text/html": [
       "<div>\n",
       "<style scoped>\n",
       "    .dataframe tbody tr th:only-of-type {\n",
       "        vertical-align: middle;\n",
       "    }\n",
       "\n",
       "    .dataframe tbody tr th {\n",
       "        vertical-align: top;\n",
       "    }\n",
       "\n",
       "    .dataframe thead th {\n",
       "        text-align: right;\n",
       "    }\n",
       "</style>\n",
       "<table border=\"1\" class=\"dataframe\">\n",
       "  <thead>\n",
       "    <tr style=\"text-align: right;\">\n",
       "      <th></th>\n",
       "      <th>code_uic</th>\n",
       "      <th>libelle</th>\n",
       "      <th>fret</th>\n",
       "      <th>voyageurs</th>\n",
       "      <th>code_ligne</th>\n",
       "      <th>rg_troncon</th>\n",
       "      <th>pk</th>\n",
       "      <th>commune</th>\n",
       "      <th>departement</th>\n",
       "      <th>idreseau</th>\n",
       "      <th>idgaia</th>\n",
       "      <th>x_l93</th>\n",
       "      <th>y_l93</th>\n",
       "      <th>x_wgs84</th>\n",
       "      <th>y_wgs84</th>\n",
       "      <th>c_geo</th>\n",
       "    </tr>\n",
       "  </thead>\n",
       "  <tbody>\n",
       "    <tr>\n",
       "      <th>86</th>\n",
       "      <td>87571455</td>\n",
       "      <td>Reignac</td>\n",
       "      <td>O</td>\n",
       "      <td>O</td>\n",
       "      <td>594000</td>\n",
       "      <td>1</td>\n",
       "      <td>269+625</td>\n",
       "      <td>REIGNAC-SUR-INDRE</td>\n",
       "      <td>INDRE-ET-LOIRE</td>\n",
       "      <td>6218</td>\n",
       "      <td>29e78332-dfbc-11e3-a2ff-01a464e0362d</td>\n",
       "      <td>541188.6339</td>\n",
       "      <td>6.681833e+06</td>\n",
       "      <td>0.901298</td>\n",
       "      <td>47.217794</td>\n",
       "      <td>47.2177935535,0.90129777732</td>\n",
       "    </tr>\n",
       "    <tr>\n",
       "      <th>193</th>\n",
       "      <td>87571612</td>\n",
       "      <td>Druye</td>\n",
       "      <td>N</td>\n",
       "      <td>O</td>\n",
       "      <td>525000</td>\n",
       "      <td>1</td>\n",
       "      <td>233+464</td>\n",
       "      <td>DRUYE</td>\n",
       "      <td>INDRE-ET-LOIRE</td>\n",
       "      <td>4011</td>\n",
       "      <td>d9bf5776-6667-11e3-89ff-01f464e0362d</td>\n",
       "      <td>513696.9209</td>\n",
       "      <td>6.692470e+06</td>\n",
       "      <td>0.533823</td>\n",
       "      <td>47.306362</td>\n",
       "      <td>47.3063620113,0.533822558376</td>\n",
       "    </tr>\n",
       "    <tr>\n",
       "      <th>311</th>\n",
       "      <td>87575399</td>\n",
       "      <td>Trogues</td>\n",
       "      <td>O</td>\n",
       "      <td>N</td>\n",
       "      <td>571000</td>\n",
       "      <td>1</td>\n",
       "      <td>037+925</td>\n",
       "      <td>TROGUES</td>\n",
       "      <td>INDRE-ET-LOIRE</td>\n",
       "      <td>9050</td>\n",
       "      <td>d9db7f26-6667-11e3-89ff-01f464e0362d</td>\n",
       "      <td>510033.5163</td>\n",
       "      <td>6.670997e+06</td>\n",
       "      <td>0.494377</td>\n",
       "      <td>47.112108</td>\n",
       "      <td>47.1121084706,0.494377239831</td>\n",
       "    </tr>\n",
       "    <tr>\n",
       "      <th>422</th>\n",
       "      <td>87571794</td>\n",
       "      <td>Port-Boulet</td>\n",
       "      <td>O</td>\n",
       "      <td>O</td>\n",
       "      <td>515000</td>\n",
       "      <td>1</td>\n",
       "      <td>281+700</td>\n",
       "      <td>CHOUZÉ-SUR-LOIRE</td>\n",
       "      <td>INDRE-ET-LOIRE</td>\n",
       "      <td>6117</td>\n",
       "      <td>c0736bd8-f312-11e3-90ff-015864e0362d</td>\n",
       "      <td>484909.2769</td>\n",
       "      <td>6.687025e+06</td>\n",
       "      <td>0.155651</td>\n",
       "      <td>47.248660</td>\n",
       "      <td>47.2486602752,0.155650519136</td>\n",
       "    </tr>\n",
       "    <tr>\n",
       "      <th>607</th>\n",
       "      <td>87571513</td>\n",
       "      <td>La Membrolle-sur-Choisille</td>\n",
       "      <td>N</td>\n",
       "      <td>O</td>\n",
       "      <td>561000</td>\n",
       "      <td>1</td>\n",
       "      <td>246+830</td>\n",
       "      <td>SAINT-CYR-SUR-LOIRE</td>\n",
       "      <td>INDRE-ET-LOIRE</td>\n",
       "      <td>4707</td>\n",
       "      <td>c0b97a36-f312-11e3-90ff-015864e0362d</td>\n",
       "      <td>522197.8554</td>\n",
       "      <td>6.706082e+06</td>\n",
       "      <td>0.640903</td>\n",
       "      <td>47.431183</td>\n",
       "      <td>47.4311825741,0.640902988409</td>\n",
       "    </tr>\n",
       "  </tbody>\n",
       "</table>\n",
       "</div>"
      ],
      "text/plain": [
       "     code_uic                     libelle fret voyageurs  code_ligne  \\\n",
       "86   87571455                     Reignac    O         O      594000   \n",
       "193  87571612                       Druye    N         O      525000   \n",
       "311  87575399                     Trogues    O         N      571000   \n",
       "422  87571794                 Port-Boulet    O         O      515000   \n",
       "607  87571513  La Membrolle-sur-Choisille    N         O      561000   \n",
       "\n",
       "     rg_troncon       pk              commune     departement  idreseau  \\\n",
       "86            1  269+625    REIGNAC-SUR-INDRE  INDRE-ET-LOIRE      6218   \n",
       "193           1  233+464                DRUYE  INDRE-ET-LOIRE      4011   \n",
       "311           1  037+925              TROGUES  INDRE-ET-LOIRE      9050   \n",
       "422           1  281+700     CHOUZÉ-SUR-LOIRE  INDRE-ET-LOIRE      6117   \n",
       "607           1  246+830  SAINT-CYR-SUR-LOIRE  INDRE-ET-LOIRE      4707   \n",
       "\n",
       "                                   idgaia        x_l93         y_l93  \\\n",
       "86   29e78332-dfbc-11e3-a2ff-01a464e0362d  541188.6339  6.681833e+06   \n",
       "193  d9bf5776-6667-11e3-89ff-01f464e0362d  513696.9209  6.692470e+06   \n",
       "311  d9db7f26-6667-11e3-89ff-01f464e0362d  510033.5163  6.670997e+06   \n",
       "422  c0736bd8-f312-11e3-90ff-015864e0362d  484909.2769  6.687025e+06   \n",
       "607  c0b97a36-f312-11e3-90ff-015864e0362d  522197.8554  6.706082e+06   \n",
       "\n",
       "      x_wgs84    y_wgs84                         c_geo  \n",
       "86   0.901298  47.217794   47.2177935535,0.90129777732  \n",
       "193  0.533823  47.306362  47.3063620113,0.533822558376  \n",
       "311  0.494377  47.112108  47.1121084706,0.494377239831  \n",
       "422  0.155651  47.248660  47.2486602752,0.155650519136  \n",
       "607  0.640903  47.431183  47.4311825741,0.640902988409  "
      ]
     },
     "execution_count": 4,
     "metadata": {},
     "output_type": "execute_result"
    }
   ],
   "source": [
    "selection = gares['departement'] == 'INDRE-ET-LOIRE'\n",
    "gares_mon_dpt = gares[selection]\n",
    "\n",
    "gares_mon_dpt.head()"
   ]
  },
  {
   "cell_type": "markdown",
   "metadata": {
    "slideshow": {
     "slide_type": "subslide"
    }
   },
   "source": [
    "Pour comprendre un peu mieux le code ci-dessus, il n'est pas inutile d'inspecter les premières lignes de `selection`."
   ]
  },
  {
   "cell_type": "code",
   "execution_count": 6,
   "metadata": {},
   "outputs": [
    {
     "data": {
      "text/plain": [
       "0       False\n",
       "1       False\n",
       "2       False\n",
       "3       False\n",
       "4       False\n",
       "5       False\n",
       "6       False\n",
       "7       False\n",
       "8       False\n",
       "9       False\n",
       "10      False\n",
       "11      False\n",
       "12      False\n",
       "13      False\n",
       "14      False\n",
       "15      False\n",
       "16      False\n",
       "17      False\n",
       "18      False\n",
       "19      False\n",
       "20      False\n",
       "21      False\n",
       "22      False\n",
       "23      False\n",
       "24      False\n",
       "25      False\n",
       "26      False\n",
       "27      False\n",
       "28      False\n",
       "29      False\n",
       "        ...  \n",
       "4252    False\n",
       "4253    False\n",
       "4254    False\n",
       "4255    False\n",
       "4256    False\n",
       "4257    False\n",
       "4258    False\n",
       "4259    False\n",
       "4260    False\n",
       "4261    False\n",
       "4262    False\n",
       "4263    False\n",
       "4264    False\n",
       "4265    False\n",
       "4266    False\n",
       "4267    False\n",
       "4268    False\n",
       "4269    False\n",
       "4270    False\n",
       "4271    False\n",
       "4272    False\n",
       "4273    False\n",
       "4274    False\n",
       "4275    False\n",
       "4276    False\n",
       "4277    False\n",
       "4278    False\n",
       "4279    False\n",
       "4280    False\n",
       "4281    False\n",
       "Name: departement, Length: 4282, dtype: bool"
      ]
     },
     "execution_count": 6,
     "metadata": {},
     "output_type": "execute_result"
    }
   ],
   "source": [
    "selection"
   ]
  },
  {
   "cell_type": "markdown",
   "metadata": {
    "slideshow": {
     "slide_type": "fragment"
    }
   },
   "source": [
    "On appelle cela un **filtre**: les 5 premières gares ne respectent pas le critère: \n",
    "\n",
    "«le descripteur `departement` a pour valeur `INDRE-ET-LOIRE`» \n",
    "\n",
    "d'où les `False`. On ne conserve que les lignes où il y a `True`. "
   ]
  },
  {
   "cell_type": "markdown",
   "metadata": {
    "slideshow": {
     "slide_type": "subslide"
    }
   },
   "source": [
    "Combien de gares y a-t-il dans mon département ?"
   ]
  },
  {
   "cell_type": "code",
   "execution_count": 7,
   "metadata": {
    "slideshow": {
     "slide_type": "fragment"
    }
   },
   "outputs": [
    {
     "data": {
      "text/plain": [
       "54"
      ]
     },
     "execution_count": 7,
     "metadata": {},
     "output_type": "execute_result"
    }
   ],
   "source": [
    "len(gares_mon_dpt)"
   ]
  },
  {
   "cell_type": "markdown",
   "metadata": {
    "slideshow": {
     "slide_type": "subslide"
    }
   },
   "source": [
    "### À faire toi-même\n",
    "\n",
    "Peux-tu compléter la première ligne du code qui suit pour conserver uniquement les gares qui prennent des voyageurs?"
   ]
  },
  {
   "cell_type": "code",
   "execution_count": 8,
   "metadata": {},
   "outputs": [
    {
     "data": {
      "text/html": [
       "<div>\n",
       "<style scoped>\n",
       "    .dataframe tbody tr th:only-of-type {\n",
       "        vertical-align: middle;\n",
       "    }\n",
       "\n",
       "    .dataframe tbody tr th {\n",
       "        vertical-align: top;\n",
       "    }\n",
       "\n",
       "    .dataframe thead th {\n",
       "        text-align: right;\n",
       "    }\n",
       "</style>\n",
       "<table border=\"1\" class=\"dataframe\">\n",
       "  <thead>\n",
       "    <tr style=\"text-align: right;\">\n",
       "      <th></th>\n",
       "      <th>code_uic</th>\n",
       "      <th>libelle</th>\n",
       "      <th>fret</th>\n",
       "      <th>voyageurs</th>\n",
       "      <th>code_ligne</th>\n",
       "      <th>rg_troncon</th>\n",
       "      <th>pk</th>\n",
       "      <th>commune</th>\n",
       "      <th>departement</th>\n",
       "      <th>idreseau</th>\n",
       "      <th>idgaia</th>\n",
       "      <th>x_l93</th>\n",
       "      <th>y_l93</th>\n",
       "      <th>x_wgs84</th>\n",
       "      <th>y_wgs84</th>\n",
       "      <th>c_geo</th>\n",
       "    </tr>\n",
       "  </thead>\n",
       "  <tbody>\n",
       "    <tr>\n",
       "      <th>86</th>\n",
       "      <td>87571455</td>\n",
       "      <td>Reignac</td>\n",
       "      <td>O</td>\n",
       "      <td>O</td>\n",
       "      <td>594000</td>\n",
       "      <td>1</td>\n",
       "      <td>269+625</td>\n",
       "      <td>REIGNAC-SUR-INDRE</td>\n",
       "      <td>INDRE-ET-LOIRE</td>\n",
       "      <td>6218</td>\n",
       "      <td>29e78332-dfbc-11e3-a2ff-01a464e0362d</td>\n",
       "      <td>541188.6339</td>\n",
       "      <td>6.681833e+06</td>\n",
       "      <td>0.901298</td>\n",
       "      <td>47.217794</td>\n",
       "      <td>47.2177935535,0.90129777732</td>\n",
       "    </tr>\n",
       "    <tr>\n",
       "      <th>193</th>\n",
       "      <td>87571612</td>\n",
       "      <td>Druye</td>\n",
       "      <td>N</td>\n",
       "      <td>O</td>\n",
       "      <td>525000</td>\n",
       "      <td>1</td>\n",
       "      <td>233+464</td>\n",
       "      <td>DRUYE</td>\n",
       "      <td>INDRE-ET-LOIRE</td>\n",
       "      <td>4011</td>\n",
       "      <td>d9bf5776-6667-11e3-89ff-01f464e0362d</td>\n",
       "      <td>513696.9209</td>\n",
       "      <td>6.692470e+06</td>\n",
       "      <td>0.533823</td>\n",
       "      <td>47.306362</td>\n",
       "      <td>47.3063620113,0.533822558376</td>\n",
       "    </tr>\n",
       "    <tr>\n",
       "      <th>422</th>\n",
       "      <td>87571794</td>\n",
       "      <td>Port-Boulet</td>\n",
       "      <td>O</td>\n",
       "      <td>O</td>\n",
       "      <td>515000</td>\n",
       "      <td>1</td>\n",
       "      <td>281+700</td>\n",
       "      <td>CHOUZÉ-SUR-LOIRE</td>\n",
       "      <td>INDRE-ET-LOIRE</td>\n",
       "      <td>6117</td>\n",
       "      <td>c0736bd8-f312-11e3-90ff-015864e0362d</td>\n",
       "      <td>484909.2769</td>\n",
       "      <td>6.687025e+06</td>\n",
       "      <td>0.155651</td>\n",
       "      <td>47.248660</td>\n",
       "      <td>47.2486602752,0.155650519136</td>\n",
       "    </tr>\n",
       "    <tr>\n",
       "      <th>607</th>\n",
       "      <td>87571513</td>\n",
       "      <td>La Membrolle-sur-Choisille</td>\n",
       "      <td>N</td>\n",
       "      <td>O</td>\n",
       "      <td>561000</td>\n",
       "      <td>1</td>\n",
       "      <td>246+830</td>\n",
       "      <td>SAINT-CYR-SUR-LOIRE</td>\n",
       "      <td>INDRE-ET-LOIRE</td>\n",
       "      <td>4707</td>\n",
       "      <td>c0b97a36-f312-11e3-90ff-015864e0362d</td>\n",
       "      <td>522197.8554</td>\n",
       "      <td>6.706082e+06</td>\n",
       "      <td>0.640903</td>\n",
       "      <td>47.431183</td>\n",
       "      <td>47.4311825741,0.640902988409</td>\n",
       "    </tr>\n",
       "    <tr>\n",
       "      <th>608</th>\n",
       "      <td>87574368</td>\n",
       "      <td>Noizay</td>\n",
       "      <td>N</td>\n",
       "      <td>O</td>\n",
       "      <td>570000</td>\n",
       "      <td>2</td>\n",
       "      <td>218+787</td>\n",
       "      <td>NOIZAY</td>\n",
       "      <td>INDRE-ET-LOIRE</td>\n",
       "      <td>5817</td>\n",
       "      <td>c0a2e208-f312-11e3-90ff-015864e0362d</td>\n",
       "      <td>541387.1926</td>\n",
       "      <td>6.703156e+06</td>\n",
       "      <td>0.896415</td>\n",
       "      <td>47.409731</td>\n",
       "      <td>47.4097311418,0.896415399928</td>\n",
       "    </tr>\n",
       "  </tbody>\n",
       "</table>\n",
       "</div>"
      ],
      "text/plain": [
       "     code_uic                     libelle fret voyageurs  code_ligne  \\\n",
       "86   87571455                     Reignac    O         O      594000   \n",
       "193  87571612                       Druye    N         O      525000   \n",
       "422  87571794                 Port-Boulet    O         O      515000   \n",
       "607  87571513  La Membrolle-sur-Choisille    N         O      561000   \n",
       "608  87574368                      Noizay    N         O      570000   \n",
       "\n",
       "     rg_troncon       pk              commune     departement  idreseau  \\\n",
       "86            1  269+625    REIGNAC-SUR-INDRE  INDRE-ET-LOIRE      6218   \n",
       "193           1  233+464                DRUYE  INDRE-ET-LOIRE      4011   \n",
       "422           1  281+700     CHOUZÉ-SUR-LOIRE  INDRE-ET-LOIRE      6117   \n",
       "607           1  246+830  SAINT-CYR-SUR-LOIRE  INDRE-ET-LOIRE      4707   \n",
       "608           2  218+787               NOIZAY  INDRE-ET-LOIRE      5817   \n",
       "\n",
       "                                   idgaia        x_l93         y_l93  \\\n",
       "86   29e78332-dfbc-11e3-a2ff-01a464e0362d  541188.6339  6.681833e+06   \n",
       "193  d9bf5776-6667-11e3-89ff-01f464e0362d  513696.9209  6.692470e+06   \n",
       "422  c0736bd8-f312-11e3-90ff-015864e0362d  484909.2769  6.687025e+06   \n",
       "607  c0b97a36-f312-11e3-90ff-015864e0362d  522197.8554  6.706082e+06   \n",
       "608  c0a2e208-f312-11e3-90ff-015864e0362d  541387.1926  6.703156e+06   \n",
       "\n",
       "      x_wgs84    y_wgs84                         c_geo  \n",
       "86   0.901298  47.217794   47.2177935535,0.90129777732  \n",
       "193  0.533823  47.306362  47.3063620113,0.533822558376  \n",
       "422  0.155651  47.248660  47.2486602752,0.155650519136  \n",
       "607  0.640903  47.431183  47.4311825741,0.640902988409  \n",
       "608  0.896415  47.409731  47.4097311418,0.896415399928  "
      ]
     },
     "execution_count": 8,
     "metadata": {},
     "output_type": "execute_result"
    }
   ],
   "source": [
    "selection = gares_mon_dpt['voyageurs'] == 'O'\n",
    "gares_mon_dpt = gares_mon_dpt[selection]\n",
    "gares_mon_dpt.head()"
   ]
  },
  {
   "cell_type": "markdown",
   "metadata": {
    "slideshow": {
     "slide_type": "subslide"
    }
   },
   "source": [
    "Combien en a-t-on éliminé?"
   ]
  },
  {
   "cell_type": "code",
   "execution_count": 9,
   "metadata": {},
   "outputs": [
    {
     "data": {
      "text/plain": [
       "51"
      ]
     },
     "execution_count": 9,
     "metadata": {},
     "output_type": "execute_result"
    }
   ],
   "source": [
    "len(gares_mon_dpt)"
   ]
  },
  {
   "cell_type": "markdown",
   "metadata": {
    "slideshow": {
     "slide_type": "slide"
    }
   },
   "source": [
    "## Sélection des descripteurs pertinents"
   ]
  },
  {
   "cell_type": "markdown",
   "metadata": {
    "slideshow": {
     "slide_type": "subslide"
    }
   },
   "source": [
    "### À faire toi-même\n",
    "\n",
    "Pour notre application, seuls les descripteurs précisant le **nom de la gare** et sa **position geographique** nous intéressent. \n",
    "\n",
    "Peux-tu compléter le code qui suit?"
   ]
  },
  {
   "cell_type": "code",
   "execution_count": 10,
   "metadata": {},
   "outputs": [
    {
     "data": {
      "text/html": [
       "<div>\n",
       "<style scoped>\n",
       "    .dataframe tbody tr th:only-of-type {\n",
       "        vertical-align: middle;\n",
       "    }\n",
       "\n",
       "    .dataframe tbody tr th {\n",
       "        vertical-align: top;\n",
       "    }\n",
       "\n",
       "    .dataframe thead th {\n",
       "        text-align: right;\n",
       "    }\n",
       "</style>\n",
       "<table border=\"1\" class=\"dataframe\">\n",
       "  <thead>\n",
       "    <tr style=\"text-align: right;\">\n",
       "      <th></th>\n",
       "      <th>libelle</th>\n",
       "      <th>c_geo</th>\n",
       "    </tr>\n",
       "  </thead>\n",
       "  <tbody>\n",
       "    <tr>\n",
       "      <th>86</th>\n",
       "      <td>Reignac</td>\n",
       "      <td>47.2177935535,0.90129777732</td>\n",
       "    </tr>\n",
       "    <tr>\n",
       "      <th>193</th>\n",
       "      <td>Druye</td>\n",
       "      <td>47.3063620113,0.533822558376</td>\n",
       "    </tr>\n",
       "    <tr>\n",
       "      <th>422</th>\n",
       "      <td>Port-Boulet</td>\n",
       "      <td>47.2486602752,0.155650519136</td>\n",
       "    </tr>\n",
       "    <tr>\n",
       "      <th>607</th>\n",
       "      <td>La Membrolle-sur-Choisille</td>\n",
       "      <td>47.4311825741,0.640902988409</td>\n",
       "    </tr>\n",
       "    <tr>\n",
       "      <th>608</th>\n",
       "      <td>Noizay</td>\n",
       "      <td>47.4097311418,0.896415399928</td>\n",
       "    </tr>\n",
       "  </tbody>\n",
       "</table>\n",
       "</div>"
      ],
      "text/plain": [
       "                        libelle                         c_geo\n",
       "86                      Reignac   47.2177935535,0.90129777732\n",
       "193                       Druye  47.3063620113,0.533822558376\n",
       "422                 Port-Boulet  47.2486602752,0.155650519136\n",
       "607  La Membrolle-sur-Choisille  47.4311825741,0.640902988409\n",
       "608                      Noizay  47.4097311418,0.896415399928"
      ]
     },
     "execution_count": 10,
     "metadata": {},
     "output_type": "execute_result"
    }
   ],
   "source": [
    "descripteurs_interessants = ['libelle', 'c_geo']\n",
    "gares_court = gares_mon_dpt[descripteurs_interessants]\n",
    "gares_court.head()"
   ]
  },
  {
   "cell_type": "markdown",
   "metadata": {
    "slideshow": {
     "slide_type": "subslide"
    }
   },
   "source": [
    "## Préparation des données\n",
    "\n",
    "Pour notre application, nous avons besoin de transformer les coordonnées géographiques de façon à avoir un couple de nombres à virgules (un `float` en Python). Le problème:\n",
    "\n",
    "Nous disposons de (par ex.): `'47.2177935535,0.90129777732'`\n",
    "\n",
    "Or, nous avons besoin de: `(47.2177935535, 47.2177935535)` (remarquer qu'il n'y a plus de `'`).\n",
    "\n",
    "La solution en trois cellules:"
   ]
  },
  {
   "cell_type": "code",
   "execution_count": 11,
   "metadata": {
    "slideshow": {
     "slide_type": "fragment"
    }
   },
   "outputs": [
    {
     "data": {
      "text/plain": [
       "[('Reignac', '47.2177935535,0.90129777732'),\n",
       " ('Druye', '47.3063620113,0.533822558376'),\n",
       " ('Port-Boulet', '47.2486602752,0.155650519136')]"
      ]
     },
     "execution_count": 11,
     "metadata": {},
     "output_type": "execute_result"
    }
   ],
   "source": [
    "noms_et_positions = [ (gare['libelle'], gare['c_geo']) for numero , gare in gares_court.iterrows()]\n",
    "noms_et_positions[0:3]"
   ]
  },
  {
   "cell_type": "code",
   "execution_count": 12,
   "metadata": {
    "slideshow": {
     "slide_type": "fragment"
    }
   },
   "outputs": [
    {
     "data": {
      "text/plain": [
       "[('Reignac', ['47.2177935535', '0.90129777732']),\n",
       " ('Druye', ['47.3063620113', '0.533822558376']),\n",
       " ('Port-Boulet', ['47.2486602752', '0.155650519136'])]"
      ]
     },
     "execution_count": 12,
     "metadata": {},
     "output_type": "execute_result"
    }
   ],
   "source": [
    "noms_et_positions = [(nom, pos.split(',')) for nom, pos in noms_et_positions]\n",
    "noms_et_positions[0:3]"
   ]
  },
  {
   "cell_type": "code",
   "execution_count": 13,
   "metadata": {
    "slideshow": {
     "slide_type": "fragment"
    }
   },
   "outputs": [
    {
     "data": {
      "text/plain": [
       "[('Reignac', (47.2177935535, 0.90129777732)),\n",
       " ('Druye', (47.3063620113, 0.533822558376)),\n",
       " ('Port-Boulet', (47.2486602752, 0.155650519136))]"
      ]
     },
     "execution_count": 13,
     "metadata": {},
     "output_type": "execute_result"
    }
   ],
   "source": [
    "noms_et_positions = [(nom, ( float(pos_x), float(pos_y) ) ) for nom, (pos_x, pos_y) in noms_et_positions]\n",
    "noms_et_positions[0:3]"
   ]
  },
  {
   "cell_type": "markdown",
   "metadata": {
    "slideshow": {
     "slide_type": "fragment"
    }
   },
   "source": [
    "Ouf! Nos données sont prêtes à être exploitées!"
   ]
  },
  {
   "cell_type": "markdown",
   "metadata": {
    "slideshow": {
     "slide_type": "slide"
    }
   },
   "source": [
    "## Affichage sur une carte interactive\n",
    "\n",
    "Pour cela, nous avons besoin d'utiliser une librairie qui gère la carte, les interactions etc.\n",
    "\n",
    "Nous utiliserons la librairie *javascript* [leaflet](https://leafletjs.com/).\n",
    "\n",
    "Pour pouvoir l'utiliser ici, nous aurons besoin d'importer la bibliothèque *python* `ipyleaflet`."
   ]
  },
  {
   "cell_type": "code",
   "execution_count": 17,
   "metadata": {
    "code_folding": [],
    "slideshow": {
     "slide_type": "subslide"
    }
   },
   "outputs": [
    {
     "data": {
      "application/vnd.jupyter.widget-view+json": {
       "model_id": "6328725dc89148f198f3b035a6527eb2",
       "version_major": 2,
       "version_minor": 0
      },
      "text/plain": [
       "Map(basemap={'url': 'https://{s}.tile.openstreetmap.org/{z}/{x}/{y}.png', 'max_zoom': 19, 'attribution': 'Map …"
      ]
     },
     "metadata": {},
     "output_type": "display_data"
    }
   ],
   "source": [
    "from ipyleaflet import Map, Marker\n",
    "\n",
    "# Coordonnées de Tours pour centrer la carte\n",
    "tours = (47.3879206614,0.695556792192)\n",
    "\n",
    "#L'objet carte\n",
    "carte = Map(center=tours, zoom=10)\n",
    "display(carte)"
   ]
  },
  {
   "cell_type": "markdown",
   "metadata": {
    "slideshow": {
     "slide_type": "fragment"
    }
   },
   "source": [
    "\n",
    "Il est temps d'utiliser nos données rangées dans `noms_et_positions`!"
   ]
  },
  {
   "cell_type": "code",
   "execution_count": 18,
   "metadata": {
    "slideshow": {
     "slide_type": "fragment"
    }
   },
   "outputs": [],
   "source": [
    "for nom, pos in noms_et_positions:\n",
    "    marker = Marker(location=pos, title=nom, draggable=False)\n",
    "    carte.add_layer(marker)"
   ]
  }
 ],
 "metadata": {
  "celltoolbar": "Slideshow",
  "kernelspec": {
   "display_name": "Python 3",
   "language": "python",
   "name": "python3"
  },
  "language_info": {
   "codemirror_mode": {
    "name": "ipython",
    "version": 3
   },
   "file_extension": ".py",
   "mimetype": "text/x-python",
   "name": "python",
   "nbconvert_exporter": "python",
   "pygments_lexer": "ipython3",
   "version": "3.6.8"
  },
  "toc": {
   "base_numbering": 1,
   "nav_menu": {},
   "number_sections": true,
   "sideBar": true,
   "skip_h1_title": false,
   "title_cell": "Table of Contents",
   "title_sidebar": "Contents",
   "toc_cell": false,
   "toc_position": {},
   "toc_section_display": true,
   "toc_window_display": false
  }
 },
 "nbformat": 4,
 "nbformat_minor": 4
}
