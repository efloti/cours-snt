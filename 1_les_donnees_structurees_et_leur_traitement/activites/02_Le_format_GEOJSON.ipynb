{
 "cells": [
  {
   "cell_type": "markdown",
   "metadata": {},
   "source": [
    "## Format GEOJSON"
   ]
  },
  {
   "cell_type": "markdown",
   "metadata": {},
   "source": [
    "Dernier format de données que nous aborderons, le **geoJSON**.\n",
    "\n",
    "Le geoJSON est un format (<http://geojson.org/>) qui permet d'encoder des\n",
    "données à \"**caractère géographique**\". Voici ce que dit Wikipédia à propos\n",
    "de ce format :\n",
    "\n",
    "> GeoJSON (de l'anglais Geographic JSON, signifiant littéralement JSON\n",
    "> géographique) est un format ouvert d'encodage d'ensemble de données\n",
    "> géospatiales simples utilisant la norme JSON (JavaScript Object\n",
    "> Notation). Il permet de décrire des données de type point, ligne,\n",
    "> chaîne de caractères, polygone, ainsi que des ensembles et\n",
    "> sous-ensembles de ces types de données et d'y ajouter des attributs\n",
    "> d'information qui ne sont pas spatiale. Le format GeoJSON,\n",
    "> contrairement à la majorité des standards de systèmes d'informations\n",
    "> géographiques, n'est pas écrit par l'Open Geospatial Consortium, mais\n",
    "> par un groupe de travail de développeurs au travers d'internet.\n",
    "\n",
    "Comme indiqué dans Wikipédia, le geoJSON est avant tout du JSON, nous\n",
    "retrouverons donc les mêmes caractéristiques que le JSON (système de\n",
    "clé/valeur)."
   ]
  },
  {
   "cell_type": "markdown",
   "metadata": {},
   "source": [
    "### À faire vous-même\n",
    "\n",
    "Dans la barre d'adresse de votre navigateur, tapez l'adresse suivante\n",
    ":\n",
    "\n",
    "``` \n",
    "https://earthquake.usgs.gov/fdsnws/event/1/query?format=geojson&starttime=2019-07-31&endtime=2019-08-01\n",
    "        \n",
    "```\n",
    "\n",
    "Vous devriez obtenir quelque chose ressemblant à ceci\n",
    ":"
   ]
  },
  {
   "cell_type": "markdown",
   "metadata": {},
   "source": [
    "```json\n",
    "{\n",
    "  \"type\": \"FeatureCollection\",\n",
    "  \"metadata\": {\n",
    "    \"generated\": 1567103163000,\n",
    "    \"url\": \"https://earthquake.usgs.gov/fdsnws/event/1/query?format=geojson&starttime=2019-07-31&endtime=2019-08-01\",\n",
    "    \"title\": \"USGS Earthquakes\",\n",
    "    \"status\": 200,\n",
    "    \"api\": \"1.8.1\",\n",
    "    \"count\": 635\n",
    "  },\n",
    "  \"features\": [\n",
    "    {\n",
    "      \"type\": \"Feature\",\n",
    "      \"properties\": {\n",
    "        \"mag\": 0.33,\n",
    "        \"place\": \"6km NW of The Geysers, CA\",\n",
    "        \"time\": 1564617341320,\n",
    "        \"updated\": 1564619343353,\n",
    "        \"tz\": -480,\n",
    "        \"url\": \"https://earthquake.usgs.gov/earthquakes/eventpage/nc73239641\",\n",
    "        \"detail\": \"https://earthquake.usgs.gov/fdsnws/event/1/query?eventid=nc73239641&format=geojson\",\n",
    "        \"felt\": null,\n",
    "        \"cdi\": null,\n",
    "        \"mmi\": null,\n",
    "        \"alert\": null,\n",
    "        \"status\": \"automatic\",\n",
    "        \"tsunami\": 0,\n",
    "        \"sig\": 2,\n",
    "        \"net\": \"nc\",\n",
    "        \"code\": \"73239641\",\n",
    "        \"ids\": \",nc73239641,\",\n",
    "        \"sources\": \",nc,\",\n",
    "        \"types\": \",geoserve,nearby-cities,origin,phase-data,scitech-link,\",\n",
    "        \"nst\": 7,\n",
    "        \"dmin\": 0.01258,\n",
    "        \"rms\": 0.03,\n",
    "        \"gap\": 78,\n",
    "        \"magType\": \"md\",\n",
    "        \"type\": \"earthquake\",\n",
    "        \"title\": \"M 0.3 - 6km NW of The Geysers, CA\"\n",
    "      },\n",
    "      \"geometry\": {\n",
    "        \"type\": \"Point\",\n",
    "        \"coordinates\": [\n",
    "          -122.8026657,\n",
    "          38.8191681,\n",
    "          3.29\n",
    "        ]\n",
    "      },\n",
    "      \"id\": \"nc73239641\"\n",
    "    },\n",
    "    {\n",
    "      \"type\": \"Feature\",\n",
    "        ...\n",
    "```\n",
    "\n",
    "-----"
   ]
  },
  {
   "cell_type": "markdown",
   "metadata": {},
   "source": [
    "Vous avez obtenu des informations au format geoJSON, sur les\n",
    "tremblements de Terre ayant eu lieu entre le 31 juillet 2019 et le 01\n",
    "août 2019, partout dans le monde.\n",
    "\n",
    "Le site \"earthquake.usgs.gov\", comme le site\n",
    "\"http://openweathermap.org/\", propose une API qui renvoie des données à\n",
    "partir d'une simple url. Le site vous propose différentes options pour\n",
    "la requête, vous trouverez une description complète de ces options\n",
    "[ici](http://earthquake.usgs.gov/fdsnws/event/1/)\n",
    "\n",
    "Attention, vous aurez un message d'erreur si votre requête renvoie plus\n",
    "de 20000 événements"
   ]
  },
  {
   "cell_type": "markdown",
   "metadata": {},
   "source": [
    "### À faire vous-même\n",
    "\n",
    "En vous aidant de la documentation présente sur le site\n",
    "[http://earthquake.usgs.gov](http://earthquake.usgs.gov/fdsnws/event/1/),\n",
    "écrivez une requête sous forme d'url qui permettra d'obtenir des données\n",
    "(au format geoJSON) sur les tremblements de terre, d'une magnitude\n",
    "supérieure à 5, ayant eu lieu ces 30 derniers jours partout dans le\n",
    "monde.\n",
    "\n",
    "Testez votre requête en la copiant dans la barre d'adresse de votre\n",
    "navigateur. Une fois les données obtenues, étudiez-les afin de\n",
    "comprendre la structure de ces données."
   ]
  },
  {
   "cell_type": "markdown",
   "metadata": {},
   "source": [
    "**ATTENTION** : les dates et les heures sont fournies au format \"timestamp\".\n",
    "Le \"timestamp\" désigne le nombre de secondes écoulé depuis le 1er\n",
    "janvier 1970 à minuit UTC précise. Au lieu de donner une date et une\n",
    "heure pour un événement donné, il est possible de donner son\n",
    "\"timestamp\". Par exemple, au lieu de dire l'événement A à eu lieu le 24\n",
    "octobre 2018 à 13h 11 minutes et 10 secondes, on pourra dire que\n",
    "l'événement A à pour \"timestamp\" 1540379470 (durée qui s'est écoulé en\n",
    "seconde entre le 1er janvier 1970 à minuit UTC et le 24 octobre 2018 à\n",
    "13h 11 minutes et 10 secondes). Vous trouverez un convertisseur de\n",
    "timestamp sur ce [site](http://www.timestamp.fr/?). Attention, dans le\n",
    "JSON renvoyé par le site \"earthquake.usgs.gov\" le timestamp est donné en\n",
    "milliseconde, il est donc nécessaire de diviser par 1000 la valeur que\n",
    "vous allez trouver dans le JSON (et garder uniquement la partie entière\n",
    "du résultat de votre division).\n",
    "\n",
    "-----"
   ]
  }
 ],
 "metadata": {
  "kernelspec": {
   "display_name": "Python 3",
   "language": "python",
   "name": "python3"
  },
  "language_info": {
   "codemirror_mode": {
    "name": "ipython",
    "version": 3
   },
   "file_extension": ".py",
   "mimetype": "text/x-python",
   "name": "python",
   "nbconvert_exporter": "python",
   "pygments_lexer": "ipython3",
   "version": "3.6.8"
  },
  "toc": {
   "base_numbering": 1,
   "nav_menu": {},
   "number_sections": true,
   "sideBar": true,
   "skip_h1_title": false,
   "title_cell": "Table of Contents",
   "title_sidebar": "Contents",
   "toc_cell": false,
   "toc_position": {},
   "toc_section_display": true,
   "toc_window_display": false
  }
 },
 "nbformat": 4,
 "nbformat_minor": 4
}
