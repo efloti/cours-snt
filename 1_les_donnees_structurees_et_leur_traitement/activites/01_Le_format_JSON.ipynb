{
 "cells": [
  {
   "cell_type": "markdown",
   "metadata": {},
   "source": [
    "## Format JSON"
   ]
  },
  {
   "cell_type": "markdown",
   "metadata": {},
   "source": [
    "Autre format de données très courant sur le \"web\", le **JSON** (*JavaScript Object Notation*). Le JSON fonctionne avec un système de paire\n",
    "**clé/valeur**.\n",
    "\n",
    "Un \"objet\" est encadré par des accolades :\n",
    "\n",
    "```json\n",
    "{cle_1 : val_1, cle_2 : val_2, cle_3 : val_3}\n",
    "        \n",
    "```\n",
    "\n",
    "souvent, pour une question de lisibilité, on écrira :\n",
    "\n",
    "```json\n",
    "{\n",
    "cle_1 : val_1,\n",
    "cle_2 : val_2,\n",
    "cle_3 : val_3\n",
    "}\n",
    "        \n",
    "```"
   ]
  },
  {
   "cell_type": "markdown",
   "metadata": {},
   "source": [
    "Un fichier au format JSON peut regrouper un grand nombre d'objets :\n",
    "\n",
    "```json\n",
    "[{\n",
    "\"nom\" : \"Durand\",\n",
    "\"prenom\" : \"Jean-Pierre\",\n",
    "\"date_naissance\" : \"23/05/1985\"\n",
    "},\n",
    "{\n",
    "\"nom\" : \"Dupont\",\n",
    "\"prenom\" : \"Christophe\",\n",
    "\"date_naissance\" : \"15/12/1967\"\n",
    "},\n",
    "{\n",
    "\"nom\" : \"Terta\",\n",
    "\"prenom\" : \"Henry\",\n",
    "\"date_naissance\" : \"12/06/1978\"\n",
    "}]\n",
    "        \n",
    "```\n",
    "Observez que ce qu'on appelle «**clé**» a été appelé plus tôt «**descripteur**» \n",
    "\n",
    "Ci-dessus, nous avons une liste (délimité par \\[ \\]) contenant des\n",
    "objets."
   ]
  },
  {
   "cell_type": "markdown",
   "metadata": {},
   "source": [
    "La \"valeur\" d'une paire \"clé/valeur\" peut être une liste :\n",
    "\n",
    "```json\n",
    "{\n",
    "\"nom\" : \"Durand\",\n",
    "\"prenom\" : \"Jean-Pierre\",\n",
    "\"date_naissance\" : \"23/05/1985\"\n",
    "\"sport\" : [\"tennis\", \"football\", \"pétanque\"]\n",
    "}\n",
    "        \n",
    "```"
   ]
  },
  {
   "cell_type": "markdown",
   "metadata": {},
   "source": [
    "ou même un autre objet :\n",
    "\n",
    "```json\n",
    "{\n",
    "\"nom\" : \"Durand\",\n",
    "\"prenom\" : \"Jean-Pierre\",\n",
    "\"date_naissance\" : \"23/05/1985\",\n",
    "\"adresse\" : {\"num\":6, \"rue\":\"impasse du rossignol\", \"ville\":\"Nogent-le-Rotrou\", \"cp\":\"28400\"}\n",
    "}\n",
    "         \n",
    "```\n",
    "\n",
    "Comme vous pouvez le constater, il est possible d'obtenir des structures\n",
    "de données très complexes avec le format JSON."
   ]
  },
  {
   "cell_type": "markdown",
   "metadata": {},
   "source": [
    "### À faire vous-même\n",
    "\n",
    "Téléchargez le fichier [ident.json](https://pixees.fr/informatiquelycee/n_site/asset/ident.json) et ouvrez-le à\n",
    "l'aide d'un éditeur de texte.\n",
    "\n",
    "NOTE pour **firefox**: le fichier s'ouvre automatiquement dans un nouvel onglet, cliquer alors sur \"données brutes\". On peut tout de même l'enregistrer avec un \"clic droit\" puis \"enregistrer la cible du lien sous\". Il suffit ensuite de l'ouvrir dans bloc-note.\n",
    "\n",
    "-----"
   ]
  },
  {
   "cell_type": "markdown",
   "metadata": {},
   "source": [
    "De nombreux sites web proposent des services basés sur des API\n",
    "(*Application Programming Interface*). Ces sites sont capables de fournir\n",
    "des données aux formats JSON sur \"simple demande\". Souvent, ces\n",
    "\"demandes\" sont effectuées par l'intermédiaire d'une url (si vous avez\n",
    "besoin de vous rafraichir la mémoire à propos de la notion d'url,\n",
    "n'hésitez pas à reconsulter ce [document](https://pixees.fr/informatiquelycee/n_site/snt_web_url.html)).\n",
    "\n",
    "Nous allons illustrer ce propos en utilisant l'API d'un site qui fournit\n",
    "des informations météo au format JSON. Vous trouverez ce site à\n",
    "l'adresse suivante :\n",
    "[openweathermap.org/api](http://openweathermap.org/api)\n",
    "\n",
    "Pour profiter de ce service, il est nécessaire d'obtenir une clé (API\n",
    "key). Cette clé vous sera fournie par votre enseignant."
   ]
  },
  {
   "cell_type": "markdown",
   "metadata": {},
   "source": [
    "### À faire vous-même\n",
    "\n",
    "Copiez-collez l'url suivante dans la barre d'adresse du navigateur:\n",
    "\n",
    "``` \n",
    "http://api.openweathermap.org/data/2.5/weather?q=tours,fr&lang=fr&units=metric&APPID=19db842339eb2de5ac8d890e39bf727b\n",
    "        \n",
    "```\n",
    "\n",
    "- Pouvez-vous trouver la température à Tours ?\n",
    "- Observez bien l'url et trouver la température actuelle à Paris ou Marseille ou ...\n",
    "\n",
    "-----"
   ]
  },
  {
   "cell_type": "markdown",
   "metadata": {},
   "source": [
    "Au lieu d'obtenir, comme d'habitude, une page web, vous devriez obtenir\n",
    "uniquement quelque chose qui ressemblera à ceci\n",
    ":\n",
    "\n",
    "```json\n",
    "{\n",
    "  \"coord\": {\n",
    "    \"lon\": 0.69,\n",
    "    \"lat\": 47.39\n",
    "  },\n",
    "  \"weather\": [\n",
    "    {\n",
    "      \"id\": 800,\n",
    "      \"main\": \"Clear\",\n",
    "      \"description\": \"ciel dégagé\",\n",
    "      \"icon\": \"01d\"\n",
    "    }\n",
    "  ],\n",
    "  \"base\": \"stations\",\n",
    "  \"main\": {\n",
    "    \"temp\": 25.33,\n",
    "    \"pressure\": 1021,\n",
    "    \"humidity\": 47,\n",
    "    \"temp_min\": 24.44,\n",
    "    \"temp_max\": 26\n",
    "  },\n",
    "  \"visibility\": 10000,\n",
    "  \"wind\": {\n",
    "    \"speed\": 1.5\n",
    "  },\n",
    "  \"clouds\": {\n",
    "    \"all\": 0\n",
    "  },\n",
    "  \"dt\": 1567100660,\n",
    "  \"sys\": {\n",
    "    \"type\": 1,\n",
    "    \"id\": 6537,\n",
    "    \"message\": 0.007,\n",
    "    \"country\": \"FR\",\n",
    "    \"sunrise\": 1567055503,\n",
    "    \"sunset\": 1567104320\n",
    "  },\n",
    "  \"timezone\": 7200,\n",
    "  \"id\": 2972191,\n",
    "  \"name\": \"Tours\",\n",
    "  \"cod\": 200\n",
    "}\n",
    "        \n",
    "```\n",
    "\n",
    "Comme les données sont réactualisées relativement souvent, vous\n",
    "n'obtiendrez pas la même chose que moi \\!"
   ]
  },
  {
   "cell_type": "markdown",
   "metadata": {},
   "source": [
    "Avec une simple url, le site open weather renvoie des informations météo\n",
    "sous forme de données JSON.\n",
    "\n",
    "Détaillons l'url :\n",
    "\n",
    "``` \n",
    "http://api.openweathermap.org/data/2.5/weather\n",
    "        \n",
    "```\n",
    "\n",
    "Cette partie de l'url ne changera pas (sauf si vous désirez autre chose\n",
    "que les conditions météo actuelles, à ce moment-là, il faudra remplacer\n",
    "\"weather\" par autre chose (consulter le site open weather pour plus\n",
    "d'informations).\n",
    "\n",
    "``` \n",
    "?q=tours,fr&lang=fr&units=metric&APPID=XXXXXXXXXXXXX\n",
    "        \n",
    "```\n",
    "\n",
    "À partir du point d'interrogation, vous devez renseigner les différents\n",
    "paramètres qui permettront à open weather de vous renvoyer les bonnes\n",
    "informations. Ces paramètres sont séparés par le caractère \"&\".\n",
    "\n",
    "  - `q=bonneville,fr` le paramètre \"q\" correspond au nom de la ville\n",
    "    suivi du pays (fr dans notre cas)\n",
    "  - `lang=fr` la langue utilisée sera le français\n",
    "  - `units=metric` on désire avoir les longueurs en mètres (et les\n",
    "    vitesses en mètre par seconde).\n",
    "  - `APPID` correspond à l'API key\n",
    "\n"
   ]
  },
  {
   "cell_type": "markdown",
   "metadata": {},
   "source": [
    "Il est possible de construire des requêtes beaucoup plus complexes,\n",
    "encore une fois, veuillez consulter le site open weather pour plus\n",
    "d'informations."
   ]
  },
  {
   "cell_type": "markdown",
   "metadata": {},
   "source": [
    "Intéressons-nous maintenant aux données JSON renvoyées (nous n'allons\n",
    "pas tout détailler) :\n",
    "\n",
    "  - `\"coord\":{\"lon\":0.69,\"lat\":47.39}` longitude et lattitude du\n",
    "    lieu\n",
    "  - `\"weather\":[{\"id\":800,\"main\":\"Clear\",\"description\":\"ciel dégagé\",\"icon\":\"01d\"}]` correspond à un tableau qui contient un seul\n",
    "    objet.\n",
    "  - `\"main\":{\"temp\":25.33,\"pressure\":1021,\"humidity\":47,\"temp_min\":24.44,\"temp_max\":26}` correspond à un objet qui contient différents types d'informations\n",
    "  - `\"dt\":1567100660` \"dt\" nous donne l'heure et la date de diffusion du bulletin au format \"timestamp\" (voir en bas de cette page pour plus d'informations sur le format \"timestamp\")\n",
    "  - `\"sunrise\":1567055503,\"sunset\":1567104320` : respectivement heure de lever et de coucher du soleil au format timestamp"
   ]
  }
 ],
 "metadata": {
  "kernelspec": {
   "display_name": "Python 3",
   "language": "python",
   "name": "python3"
  },
  "language_info": {
   "codemirror_mode": {
    "name": "ipython",
    "version": 3
   },
   "file_extension": ".py",
   "mimetype": "text/x-python",
   "name": "python",
   "nbconvert_exporter": "python",
   "pygments_lexer": "ipython3",
   "version": "3.7.3"
  },
  "toc": {
   "base_numbering": 1,
   "nav_menu": {},
   "number_sections": true,
   "sideBar": true,
   "skip_h1_title": false,
   "title_cell": "Table of Contents",
   "title_sidebar": "Contents",
   "toc_cell": false,
   "toc_position": {},
   "toc_section_display": true,
   "toc_window_display": false
  }
 },
 "nbformat": 4,
 "nbformat_minor": 4
}
