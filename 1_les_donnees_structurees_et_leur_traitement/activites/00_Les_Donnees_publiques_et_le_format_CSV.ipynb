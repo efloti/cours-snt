{
 "cells": [
  {
   "cell_type": "markdown",
   "metadata": {},
   "source": [
    "# Différents formats de données courant"
   ]
  },
  {
   "cell_type": "markdown",
   "metadata": {},
   "source": [
    "On trouve énormément de **données** sur internet. Une partie de ces données\n",
    "sont **publiques**.\n",
    "\n",
    "Par exemple le site `data.gouv.fr` récence un grand nombre de données publiques. Ces données sont **librement réutilisables**."
   ]
  },
  {
   "cell_type": "markdown",
   "metadata": {},
   "source": [
    "## L'open data"
   ]
  },
  {
   "cell_type": "markdown",
   "metadata": {},
   "source": [
    "### À faire vous-même\n",
    "\n",
    "Afin de découvrir ce qu'est \"l'**open data**\", visitez le site [data.gouv.fr](https://www.data.gouv.fr/fr/). \n",
    "\n",
    "En haut et à gauche de la page d'accueil, cliquez sur `Documentation` puis lire la section **Découvrir l'open data**\n",
    "\n",
    "Résumez en quelques lignes ce que vous aurez appris en lisant cette page.\n",
    "\n",
    "-----"
   ]
  },
  {
   "cell_type": "markdown",
   "metadata": {},
   "source": [
    "### À faire vous-même\n",
    "\n",
    "Explorez pendant quelques minutes le site\n",
    "[data.gouv.fr](https://www.data.gouv.fr/fr/). Recherchez les données\n",
    "\"Opérations coordonnées par les CROSS\" à l'aide du moteur de recherche\n",
    "proposé par le site\n",
    "\n",
    "Vous pouvez constater que ces données sont au format **CSV**.\n",
    "\n",
    "-----"
   ]
  },
  {
   "cell_type": "markdown",
   "metadata": {},
   "source": [
    "## Format CSV"
   ]
  },
  {
   "cell_type": "markdown",
   "metadata": {},
   "source": [
    "Le format **CSV** est très courant sur internet, nous allons l'étudier en\n",
    "premier.\n",
    "\n",
    "Voici ce que nous dit Wikipédia sur le format CSV :\n",
    "\n",
    "> Comma-separated values, connu sous le sigle CSV, est un format\n",
    "informatique ouvert représentant des données tabulaires sous forme de\n",
    "valeurs séparées par des virgules.\n",
    ">\n",
    "> Un fichier CSV est un fichier texte, par opposition aux formats dits «\n",
    "binaires ». Chaque ligne du texte correspond à une ligne du tableau et\n",
    "les virgules correspondent aux séparations entre les colonnes. Les\n",
    "portions de texte séparées par une virgule correspondent ainsi aux\n",
    "contenus des cellules du tableau."
   ]
  },
  {
   "cell_type": "markdown",
   "metadata": {},
   "source": [
    "Voici un exemple du contenu d'un fichier CSV :\n",
    "\n",
    "```\n",
    "nom,prenom,date_naissance\n",
    "Durand,Jean-Pierre,23/05/1985\n",
    "Dupont,Christophe,15/12/1967\n",
    "Terta,Henry,12/06/1978       \n",
    "```"
   ]
  },
  {
   "cell_type": "markdown",
   "metadata": {},
   "source": [
    "Je pense qu'il est évident pour vous que nous avons ici 3 personnes :\n",
    "\n",
    "  - Jean-Pierre Durand qui est né le 23/05/1985\n",
    "  - Christophe Dupont qui est né le 15/12/1967\n",
    "  - Henry Terta qui est né le 12/06/1978\n",
    "\n",
    "`nom`, `prenom` et `date_naissance` sont appelés des **descripteurs** alors que, par exemple, *Durand*, *Dupont* et *Terta* sont les **valeurs** du descripteur `nom`."
   ]
  },
  {
   "cell_type": "markdown",
   "metadata": {},
   "source": [
    "### À faire vous-même\n",
    "\n",
    "Donnez les différentes valeurs du descripteur `date_naissance`.\n",
    "\n",
    "----"
   ]
  },
  {
   "cell_type": "markdown",
   "metadata": {},
   "source": [
    "**ATTENTION** : La virgule est un standard pour les données anglo-saxonnes, mais pas\n",
    "pour les données aux normes françaises. En effet, en français, la\n",
    "virgule est le séparateur des chiffres décimaux. Il serait impossible de\n",
    "différencier les virgules des décimaux et les virgules de séparation des\n",
    "informations. C’est pourquoi on utilise un autre séparateur : le\n",
    "point-virgule (;). Dans certains cas cela peut engendrer quelques\n",
    "problèmes, vous devrez donc rester vigilants sur le type de séparateur\n",
    "utilisé.\n",
    "\n",
    "Les tableurs, tels que \"Calc\" (Libre Office), sont normalement capables\n",
    "de lire les fichiers au format CSV. J'ai précisé \"normalement\" car\n",
    "certains tableurs gèrent mal le séparateur CSV \"point-virgule\" et le\n",
    "séparateur des chiffres décimaux \"virgule\"."
   ]
  },
  {
   "cell_type": "markdown",
   "metadata": {},
   "source": [
    "### À faire vous-même\n",
    "\n",
    "Après avoir téléchargé le fichier\n",
    "[ident\\_pointVirgule.csv](https://pixees.fr/informatiquelycee/n_site/asset/ident_pointVirgule.csv), ouvrez ce\n",
    "dernier à l'aide d'un tableur.\n",
    "\n",
    "-----\n",
    "Si par hasard votre tableur ne gère pas correctement le fichier avec le\n",
    "séparateur \"point-virgule\", voici une version \"séparateur virgule\" du\n",
    "fichier : [ident\\_virgule.csv](https://pixees.fr/informatiquelycee/n_site/asset/ident_virgule.csv)\n",
    "\n",
    "Dans la suite, gardez toujours cet éventuel problème à l'esprit (surtout\n",
    "avec des données \"made in France\")\n"
   ]
  },
  {
   "cell_type": "markdown",
   "metadata": {},
   "source": [
    "Vous devriez obtenir ceci :\n",
    "\n",
    "<div class=\"centrer\">\n",
    "\n",
    "![](https://pixees.fr/informatiquelycee/n_site/img/snt_donnee_1.png)\n",
    "\n",
    "</div>\n",
    "\n",
    "Vous pouvez constater que les données sont bien \"rangées\" dans un\n",
    "tableau avec des **lignes** et des **colonnes** (voilà pourquoi on parle de\n",
    "données tabulaires).\n",
    "\n",
    "Il est possible de trouver sur le web des données beaucoup plus\n",
    "intéressantes à traiter que celles contenues dans le fichier\n",
    "\"ident\\_pointVirgule.csv\" (ou \"ident\\_virgule.csv\"). Par exemple, le\n",
    "site [sql.sh](http://sql.sh/736-base-donnees-villes-francaises), propose\n",
    "un fichier csv contenant des informations sur l'ensemble des communes\n",
    "françaises."
   ]
  },
  {
   "cell_type": "markdown",
   "metadata": {},
   "source": [
    "### À faire vous-même\n",
    "\n",
    "Ouvrez le fichier [ville\\_point\\_virgule.csv](https://pixees.fr/informatiquelycee/n_site/asset/villes_point_virgule.csv) à l'aide d'un tableur (c’est une version légèrement modifiée de celle disponible\n",
    "sur le site sql.sh, j’y ai notamment ajouté des entêtes). \n",
    "\n",
    "En cas de problème avec votre tableur, voici une version \"séparateur virgule\" :\n",
    "[ville\\_virgule.csv](https://pixees.fr/informatiquelycee/n_site/asset/villes_virgule.csv) (attention le séparateur\n",
    "\"décimal\" est ici le point)\n",
    "\n",
    "-----"
   ]
  },
  {
   "cell_type": "markdown",
   "metadata": {},
   "source": [
    "Comme vous pouvez le constater, nous avons 12 colonnes (et 36700 lignes\n",
    "si on ne compte pas l'entête \\!), voici la signification de ces colonnes\n",
    ":\n",
    "\n",
    "  - `dep` : numéro de département\n",
    "  - `nom` : nom de la commune\n",
    "  - `cp` : code postal\n",
    "  - `nb_hab_2010` : nombre d'habitants en 2010\n",
    "  - `nb_hab_1999` : nombre d'habitants en 1999\n",
    "  - `nb_hab_2012` : nombre d'habitants en 2012 (approximatif)\n",
    "  - `dens` : densité de la population (habitants par kilomètre carré)\n",
    "  - `surf` : superficie de la commune en kilomètre carré\n",
    "  - `long` : longitude\n",
    "  - `lat` : latitude\n",
    "  - `alt_min` : altitude minimale de la commune (il manque des données\n",
    "    pour certains territoires d'outre-mer)\n",
    "  - `alt_max` : altitude maximale de la commune (il manque des données\n",
    "    pour certains territoires d'outre-mer)"
   ]
  },
  {
   "cell_type": "markdown",
   "metadata": {},
   "source": [
    "### À faire vous-même\n",
    "\n",
    "En vous aidant du fichier ouvert dans le \"À faire vous-même\" précédent, déterminez l'altitude maximale et l'altitude minimale de votre commune.\n",
    "\n",
    "-----"
   ]
  }
 ],
 "metadata": {
  "kernelspec": {
   "display_name": "Python 3",
   "language": "python",
   "name": "python3"
  },
  "language_info": {
   "codemirror_mode": {
    "name": "ipython",
    "version": 3
   },
   "file_extension": ".py",
   "mimetype": "text/x-python",
   "name": "python",
   "nbconvert_exporter": "python",
   "pygments_lexer": "ipython3",
   "version": "3.7.3"
  },
  "toc": {
   "base_numbering": 1,
   "nav_menu": {},
   "number_sections": true,
   "sideBar": true,
   "skip_h1_title": false,
   "title_cell": "Table of Contents",
   "title_sidebar": "Contents",
   "toc_cell": false,
   "toc_position": {},
   "toc_section_display": true,
   "toc_window_display": false
  }
 },
 "nbformat": 4,
 "nbformat_minor": 4
}
