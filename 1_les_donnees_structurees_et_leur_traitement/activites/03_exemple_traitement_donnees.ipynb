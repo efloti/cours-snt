{
 "cells": [
  {
   "cell_type": "markdown",
   "metadata": {},
   "source": [
    "# Traitement des données avec le langage Python\n",
    "\n",
    "**Objectif**: Afficher sur une carte interactive les gares de voyageur d'Indre et Loire"
   ]
  },
  {
   "cell_type": "markdown",
   "metadata": {},
   "source": [
    "## Récupération et visualisation basique des données\n",
    "\n",
    "Nous utiliserons une librairie spécialisée dans le traitement des données connu sous le nom de `pandas`"
   ]
  },
  {
   "cell_type": "code",
   "execution_count": null,
   "metadata": {},
   "outputs": [],
   "source": [
    "import pandas"
   ]
  },
  {
   "cell_type": "markdown",
   "metadata": {},
   "source": [
    "Sur l'open data de la SNCF, on trouve [la liste des gares](https://data.sncf.com/explore/dataset/liste-des-gares/export) dans différents formats...\n",
    "\n",
    "Pour cet exemple, j'ai téléchargé le fichier *fichier_gares.csv*. Lisons le avec Python et pandas:"
   ]
  },
  {
   "cell_type": "code",
   "execution_count": null,
   "metadata": {},
   "outputs": [],
   "source": [
    "gares = pandas.read_csv('fichier_gares.csv', sep=\";\")\n",
    "gares.head()"
   ]
  },
  {
   "cell_type": "markdown",
   "metadata": {},
   "source": [
    "### À faire toi-même\n",
    "\n",
    "Dans la cellule qui suit:\n",
    "- Enlève le `.head()` dans le code et exécute la cellule. Vois-tu à quoi il sert ?\n",
    "- Que se passe-t-il si on change le séparateur par une virgule ?"
   ]
  },
  {
   "cell_type": "code",
   "execution_count": null,
   "metadata": {},
   "outputs": [],
   "source": [
    "# pour tester\n",
    "test_gares = pandas.read_csv('fichier_gares.csv', sep=\";\")\n",
    "test_gares.head()"
   ]
  },
  {
   "cell_type": "markdown",
   "metadata": {},
   "source": [
    "## Sélection des gares pertinentes\n",
    "\n",
    "Notre objectif est d'afficher les gares du départements sur une map (carte). Réaffichons les **descripteurs** de ces gares:"
   ]
  },
  {
   "cell_type": "code",
   "execution_count": null,
   "metadata": {},
   "outputs": [],
   "source": [
    "gares.columns"
   ]
  },
  {
   "cell_type": "markdown",
   "metadata": {},
   "source": [
    "### À faire toi-même\n",
    "\n",
    "Dans le code qui suit, il manque le descripteur pertinent dans la zone à compléter `___`: complète-le. \n",
    "\n",
    "**Note**: Si tu réussis, seules les gares pertinentes s'affichent (les 5 premières...)"
   ]
  },
  {
   "cell_type": "code",
   "execution_count": null,
   "metadata": {},
   "outputs": [],
   "source": [
    "mon_departement = 'INDRE-ET-LOIRE'\n",
    "descripteur = ___\n",
    "selection = gares[descripteur] == mon_departement\n",
    "gares_mon_dpt = gares[selection]\n",
    "\n",
    "gares_mon_dpt.head()"
   ]
  },
  {
   "cell_type": "markdown",
   "metadata": {},
   "source": [
    "Pour comprendre un peu mieux le code ci-dessus, il n'est pas inutile d'inspecter les premières lignes de `selection`."
   ]
  },
  {
   "cell_type": "code",
   "execution_count": null,
   "metadata": {},
   "outputs": [],
   "source": [
    "selection.head()"
   ]
  },
  {
   "cell_type": "markdown",
   "metadata": {},
   "source": [
    "On appelle cela un **filtre**: les 5 premières gares ne respectent pas le critère: \n",
    "\n",
    "«le descripteur `departement` a pour valeur `INDRE-ET-LOIRE`» \n",
    "\n",
    "d'où les `False`. On ne conserve que les lignes où il y a `True`. "
   ]
  },
  {
   "cell_type": "markdown",
   "metadata": {},
   "source": [
    "Combien de gares y a-t-il dans mon département ?"
   ]
  },
  {
   "cell_type": "code",
   "execution_count": null,
   "metadata": {},
   "outputs": [],
   "source": [
    "len(gares_mon_dpt)"
   ]
  },
  {
   "cell_type": "markdown",
   "metadata": {},
   "source": [
    "### À faire toi-même\n",
    "\n",
    "Peux-tu compléter la première ligne du code qui suit pour conserver uniquement les gares qui prennent des voyageurs?"
   ]
  },
  {
   "cell_type": "code",
   "execution_count": null,
   "metadata": {},
   "outputs": [],
   "source": [
    "selection = gares_mon_dpt[___] == ___\n",
    "gares_mon_dpt = gares_mon_dpt[selection]\n",
    "gares_mon_dpt.head()"
   ]
  },
  {
   "cell_type": "markdown",
   "metadata": {},
   "source": [
    "Combien en a-t-on éliminé?"
   ]
  },
  {
   "cell_type": "code",
   "execution_count": null,
   "metadata": {},
   "outputs": [],
   "source": [
    "___(gares_mon_dpt)"
   ]
  },
  {
   "cell_type": "markdown",
   "metadata": {},
   "source": [
    "## Sélection des descripteurs pertinents"
   ]
  },
  {
   "cell_type": "markdown",
   "metadata": {},
   "source": [
    "### À faire toi-même\n",
    "\n",
    "Pour notre application, seuls les descripteurs précisant le **nom de la gare** et sa **position geographique** nous intéressent. \n",
    "\n",
    "Peux-tu compléter le code qui suit?"
   ]
  },
  {
   "cell_type": "code",
   "execution_count": null,
   "metadata": {},
   "outputs": [],
   "source": [
    "descripteurs_interessants = [___, ___]\n",
    "gares_court = gares_mon_dpt[descripteurs_interessants]\n",
    "gares_court.head()"
   ]
  },
  {
   "cell_type": "markdown",
   "metadata": {},
   "source": [
    "## Préparation des données\n",
    "\n",
    "Pour notre application, nous avons besoin de transformer les coordonnées géographiques de façon à avoir un couple de nombres à virgules (un `float` en Python). Le problème:\n",
    "\n",
    "Nous disposons de (par ex.): `'47.2177935535,0.90129777732'`\n",
    "\n",
    "Or, nous avons besoin de: `(47.2177935535, 47.2177935535)` (remarquer qu'il n'y a plus de `'`).\n",
    "\n",
    "La solution en trois cellules:"
   ]
  },
  {
   "cell_type": "code",
   "execution_count": null,
   "metadata": {},
   "outputs": [],
   "source": [
    "noms_et_positions = [ (gare['libelle'], gare['c_geo']) for numero , gare in gares_court.iterrows()]\n",
    "noms_et_positions[0:3]"
   ]
  },
  {
   "cell_type": "code",
   "execution_count": null,
   "metadata": {},
   "outputs": [],
   "source": [
    "noms_et_positions = [(nom, pos.split(',')) for nom, pos in noms_et_positions]\n",
    "noms_et_positions[0:3]"
   ]
  },
  {
   "cell_type": "code",
   "execution_count": null,
   "metadata": {},
   "outputs": [],
   "source": [
    "noms_et_positions = [(nom, ( float(pos_x), float(pos_y) ) ) for nom, (pos_x, pos_y) in noms_et_positions]\n",
    "noms_et_positions[0:3]"
   ]
  },
  {
   "cell_type": "markdown",
   "metadata": {},
   "source": [
    "Ouf! Nos données sont prêtes à être exploitées!"
   ]
  },
  {
   "cell_type": "markdown",
   "metadata": {},
   "source": [
    "## Affichage sur une carte interactive\n",
    "\n",
    "Pour cela, nous avons besoin d'utiliser une librairie qui gère la carte, les interactions etc.\n",
    "\n",
    "Nous utiliserons la librairie *javascript* [leaflet](https://leafletjs.com/).\n",
    "\n",
    "Pour pouvoir l'utiliser ici, nous aurons besoin d'importer la bibliothèque *python* `ipyleaflet`."
   ]
  },
  {
   "cell_type": "code",
   "execution_count": null,
   "metadata": {
    "code_folding": []
   },
   "outputs": [],
   "source": [
    "from ipyleaflet import Map, Marker\n",
    "\n",
    "# Coordonnées de Tours pour centrer la carte\n",
    "tours = (47.3879206614,0.695556792192)\n",
    "\n",
    "#L'objet carte\n",
    "carte = Map(center=tours, zoom=10)\n",
    "display(carte)"
   ]
  },
  {
   "cell_type": "markdown",
   "metadata": {},
   "source": [
    "\n",
    "Il est temps d'utiliser nos données rangées dans `noms_et_positions`!"
   ]
  },
  {
   "cell_type": "code",
   "execution_count": null,
   "metadata": {},
   "outputs": [],
   "source": [
    "for nom, pos in noms_et_positions:\n",
    "    marker = Marker(location=pos, title=nom, draggable=False)\n",
    "    carte.add_layer(marker)"
   ]
  }
 ],
 "metadata": {
  "kernelspec": {
   "display_name": "Python 3",
   "language": "python",
   "name": "python3"
  },
  "language_info": {
   "codemirror_mode": {
    "name": "ipython",
    "version": 3
   },
   "file_extension": ".py",
   "mimetype": "text/x-python",
   "name": "python",
   "nbconvert_exporter": "python",
   "pygments_lexer": "ipython3",
   "version": "3.6.8"
  },
  "toc": {
   "base_numbering": 1,
   "nav_menu": {},
   "number_sections": true,
   "sideBar": true,
   "skip_h1_title": false,
   "title_cell": "Table of Contents",
   "title_sidebar": "Contents",
   "toc_cell": false,
   "toc_position": {},
   "toc_section_display": true,
   "toc_window_display": false
  }
 },
 "nbformat": 4,
 "nbformat_minor": 4
}
