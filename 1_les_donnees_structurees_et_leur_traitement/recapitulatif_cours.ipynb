{
 "cells": [
  {
   "cell_type": "markdown",
   "metadata": {},
   "source": [
    "# Les données structurées et leur traitement"
   ]
  },
  {
   "cell_type": "markdown",
   "metadata": {},
   "source": [
    "## Les données"
   ]
  },
  {
   "cell_type": "markdown",
   "metadata": {},
   "source": [
    "Une **donnée** est un élément d'information se rapportant à une personne, un événement, ... , à un **objet**.\n",
    "\n",
    "Les données sont **personnelles** si elles permettent d'*identifier une personne* (directement ou par recoupement).\n",
    "*ex*: nom, numéro de téléphone, photo, empreinte digitale ...\n",
    "\n",
    "Les données sont collectées par des organismes, des entreprises, ... et sont souvent *stockées* dans le **cloud** (nuage).\n",
    "\n",
    "Le **cloud** est formé de groupe de machines *distantes* (un peu partout sur la planète), connectées au réseau internet. L'utilisateur peut avoir l'impression que ses données sont sur sa machine (téléphone, ordinateur) alors qu'en réalité elles sont sur une ou plusieurs de ces machines distantes, *dans le cloud*.\n",
    "\n",
    "Certaine données sont en *libre accès pour tous*: on parle alors d'**open data**. *ex*: le site *data.gouv.fr*.\n",
    "\n",
    "Les données circulent sur internet sous différentes formes ou **formats**: *binaire* (image, son, ...) ou *textuelle* (csv, json, xml, html, ...) ou *mixte* (doc, odt, ..)\n",
    "\n",
    "On y accède souvent au moyen d'**API** (*Application Programming Interface*) pour *automatiser* leur traitement par des programmes. *ex*: *openweathermap.org* pour obtenir des données météo sur toute la planète au moyen d'urls «bien formatées».\n",
    "\n",
    "La quantité de donnée est mesurée en **Kilo** *Octets* (ko - 1000), **Méga** *Octets* (Mo - 1 million), **Giga** (Go - 1 milliard) et ainsi de suite en multipliant par 1000 à chaque fois - puis **Téra**, **Péta**, **Exa** ..."
   ]
  },
  {
   "cell_type": "markdown",
   "metadata": {},
   "source": [
    "## Principaux formats des données textuelles"
   ]
  },
  {
   "cell_type": "markdown",
   "metadata": {},
   "source": [
    "### CSV - *Comma Separated values*"
   ]
  },
  {
   "cell_type": "markdown",
   "metadata": {},
   "source": [
    "Un fichier dont l'extension est `.csv` contient du **texte** de la forme.\n",
    "```\n",
    "0   nom,prenom,date_naissance\n",
    "1   Durand,Jean-Pierre,23/05/1985\n",
    "2   Dupont,Christophe,15/12/1967\n",
    "3   Terta,Henry,12/06/1978       \n",
    "```\n",
    "\n",
    "La ligne 0 est spéciale: elle précise les **descripteurs** des données (séparés par des virgules).\n",
    "\n",
    "Les autres lignes (1,2,3) se rapportent aux **objets** (ici des personnes) et contiennent les **valeurs** associées au *descripteur* de même position (par rapport aux virgules).\n",
    "\n",
    "Le tout forme une **collection** de données.\n",
    "\n",
    "Pour exploiter un tel fichier simplement, on peut utiliser un *tableur* (attention au séparateur) ou même un simple éditeur de texte comme *bloc-note* ou *notepad++* (mais pas *word* ...)\n",
    "\n",
    "On peut aussi l'exploiter à l'aide d'un programme écrit en python par exemple."
   ]
  },
  {
   "cell_type": "markdown",
   "metadata": {},
   "source": [
    "### JSON - JavaScript Object Notation"
   ]
  },
  {
   "cell_type": "markdown",
   "metadata": {},
   "source": [
    "Un fichier dont l'extension est `.json` contient du **texte** de la forme:\n",
    "\n",
    "```json\n",
    "{\n",
    "\"nom\" : \"Durand\",\n",
    "\"prenom\" : \"Jean-Pierre\",\n",
    "\"date_naissance\" : \"23/05/1985\"\n",
    "\"sport\" : [\"tennis\", \"football\", \"pétanque\"]\n",
    "}\n",
    "        \n",
    "```\n",
    "Dans ce format, chaque **objet** (ici une personne) est *délimité* par des accolades `{..}`, les **descripteurs** (situés avant les `:`) sont appelés **clés** (*ex*: \"nom\", \"prenom\"..)\n",
    "\n",
    "Noter que, contrairement à CSV, plusieurs valeurs peuvent être associées à un descripteur en utilisant des crochets `[..]` (ex: *sport*).\n",
    "\n",
    "Ce format, plus précis, est destiné au *traitement automatisé des données* (même s'il est encore lisible par un humain expérimenté); c'est le format d'échange de données le plus utilisé sur internet de nos jours."
   ]
  },
  {
   "cell_type": "markdown",
   "metadata": {},
   "source": [
    "### Les autres..."
   ]
  },
  {
   "cell_type": "markdown",
   "metadata": {},
   "source": [
    "Il y en a beaucoup: citons le `GEOJSON`, une variation de `JSON` pour les données géospatiales, `XML`, `HTML` (vous le reverrez plus tard celui-là) ... "
   ]
  },
  {
   "cell_type": "markdown",
   "metadata": {},
   "source": [
    "## Traitement des données"
   ]
  },
  {
   "cell_type": "markdown",
   "metadata": {},
   "source": [
    "Bien qu'il soit possible de traiter les données textuelles «à la main» ou avec un tableur pour CSV, cela devient vite impraticable... On a alors recourt à la **programmation**."
   ]
  },
  {
   "cell_type": "markdown",
   "metadata": {},
   "source": [
    "Voici quelques étapes incontournables d'un programme qui traite des données (ex: les gares de france):\n",
    "\n",
    "1. **Récupérer** les données et obtenir des informations à leur sujet (quels sont les descripteurs? que signifient-t-il?),\n",
    "2. **Sélectionner** les «*objets*-gares» (les lignes) qui nous interessent (*ex*: seulement les gares d'Indre-et-Loire),\n",
    "3. **Ne conserver que** les *descripteurs* utiles (les colonnes) pour notre application (*ex*: nom de la gare et coordonnée géographique),\n",
    "4. **Reformater** éventuellement les informations si elles ne sont pas directement exploitables ...\n",
    "5. **Exploiter** le résultat obtenu pour notre application (ex: carte interactive)."
   ]
  }
 ],
 "metadata": {
  "kernelspec": {
   "display_name": "Python 3",
   "language": "python",
   "name": "python3"
  },
  "language_info": {
   "codemirror_mode": {
    "name": "ipython",
    "version": 3
   },
   "file_extension": ".py",
   "mimetype": "text/x-python",
   "name": "python",
   "nbconvert_exporter": "python",
   "pygments_lexer": "ipython3",
   "version": "3.6.8"
  }
 },
 "nbformat": 4,
 "nbformat_minor": 4
}
